{
 "cells": [
  {
   "cell_type": "markdown",
   "metadata": {},
   "source": [
    "# Hotstar Data Analysis\n",
    "\n",
    "We are going to analyze  the dataset which contains the Movies and Tv shows as of 2022. This Dataset is collected from Kaggle \n",
    "\n",
    "Tool are used to analyze the dataset `pandas`, `matplotlib`, `seaborn`, `opendataset`"
   ]
  },
  {
   "cell_type": "markdown",
   "metadata": {},
   "source": [
    "In this Dataset we are going to do following:\n",
    "\n",
    "- Selecting and downloading a dataset\n",
    "- Data preparation and cleaning\n",
    "- Exploratory analysis and visualization\n",
    "- Asking and answering interesting questions\n",
    "- Summarizing inferences and drawing conclusions"
   ]
  },
  {
   "cell_type": "markdown",
   "metadata": {},
   "source": [
    "# Downloading the Dataset\n",
    "\n",
    "We are going to download the dataset using opendataset library, which is used to download the dataset from the internet."
   ]
  },
  {
   "cell_type": "code",
   "execution_count": 4,
   "metadata": {},
   "outputs": [],
   "source": [
    "!pip install jovian opendatasets --upgrade --quiet"
   ]
  },
  {
   "cell_type": "markdown",
   "metadata": {},
   "source": [
    "Let's begin by downloading the data, and listing the files within the dataset."
   ]
  },
  {
   "cell_type": "code",
   "execution_count": 5,
   "metadata": {},
   "outputs": [],
   "source": [
    "# Change this\n",
    "dataset_url = 'https://www.kaggle.com/datasets/goelyash/disney-hotstar-tv-and-movie-catalog'"
   ]
  },
  {
   "cell_type": "code",
   "execution_count": 6,
   "metadata": {
    "scrolled": true
   },
   "outputs": [
    {
     "name": "stdout",
     "output_type": "stream",
     "text": [
      "Please provide your Kaggle credentials to download this dataset. Learn more: http://bit.ly/kaggle-creds\n",
      "Your Kaggle username: vinayakpandey8\n",
      "Your Kaggle Key: ········\n",
      "Downloading disney-hotstar-tv-and-movie-catalog.zip to ./disney-hotstar-tv-and-movie-catalog\n"
     ]
    },
    {
     "name": "stderr",
     "output_type": "stream",
     "text": [
      "100%|██████████| 532k/532k [00:00<00:00, 85.4MB/s]"
     ]
    },
    {
     "name": "stdout",
     "output_type": "stream",
     "text": [
      "\n"
     ]
    },
    {
     "name": "stderr",
     "output_type": "stream",
     "text": [
      "\n"
     ]
    }
   ],
   "source": [
    "import opendatasets as od\n",
    "od.download(dataset_url)"
   ]
  },
  {
   "cell_type": "markdown",
   "metadata": {},
   "source": [
    "The dataset has been downloaded and extracted."
   ]
  },
  {
   "cell_type": "code",
   "execution_count": 7,
   "metadata": {},
   "outputs": [],
   "source": [
    "# Change this\n",
    "data_dir = './disney-hotstar-tv-and-movie-catalog'"
   ]
  },
  {
   "cell_type": "code",
   "execution_count": 8,
   "metadata": {},
   "outputs": [
    {
     "data": {
      "text/plain": [
       "['hotstar.csv']"
      ]
     },
     "execution_count": 8,
     "metadata": {},
     "output_type": "execute_result"
    }
   ],
   "source": [
    "import os\n",
    "os.listdir(data_dir)"
   ]
  },
  {
   "cell_type": "markdown",
   "metadata": {},
   "source": [
    "Let us save and upload our work to Jovian before continuing."
   ]
  },
  {
   "cell_type": "code",
   "execution_count": 9,
   "metadata": {},
   "outputs": [],
   "source": [
    "project_name = 'hotstar_data_analysis'"
   ]
  },
  {
   "cell_type": "code",
   "execution_count": 10,
   "metadata": {},
   "outputs": [],
   "source": [
    "!pip install jovian --upgrade -q"
   ]
  },
  {
   "cell_type": "code",
   "execution_count": 11,
   "metadata": {},
   "outputs": [],
   "source": [
    "import jovian"
   ]
  },
  {
   "cell_type": "code",
   "execution_count": 12,
   "metadata": {},
   "outputs": [
    {
     "data": {
      "application/javascript": [
       "window.require && require([\"base/js/namespace\"],function(Jupyter){Jupyter.notebook.save_checkpoint()})"
      ],
      "text/plain": [
       "<IPython.core.display.Javascript object>"
      ]
     },
     "metadata": {},
     "output_type": "display_data"
    },
    {
     "name": "stdout",
     "output_type": "stream",
     "text": [
      "[jovian] Updating notebook \"vinayakpandey372/hotstar-data-analysis\" on https://jovian.ai\u001b[0m\n",
      "[jovian] Committed successfully! https://jovian.ai/vinayakpandey372/hotstar-data-analysis\u001b[0m\n"
     ]
    },
    {
     "data": {
      "text/plain": [
       "'https://jovian.ai/vinayakpandey372/hotstar-data-analysis'"
      ]
     },
     "execution_count": 12,
     "metadata": {},
     "output_type": "execute_result"
    }
   ],
   "source": [
    "jovian.commit(project=project_name)"
   ]
  },
  {
   "cell_type": "markdown",
   "metadata": {},
   "source": [
    "## Data Preparation and Cleaning\n",
    "\n",
    "Before we analyze data we have to handle and clean missing value.\n",
    "\n",
    "Data cleaning is the process to clean and handle data that we can derive some meaningful results."
   ]
  },
  {
   "cell_type": "code",
   "execution_count": 13,
   "metadata": {},
   "outputs": [],
   "source": [
    "import pandas as pd"
   ]
  },
  {
   "cell_type": "code",
   "execution_count": 14,
   "metadata": {},
   "outputs": [],
   "source": [
    "hotstar_df = pd.read_csv(data_dir+ '/hotstar.csv')"
   ]
  },
  {
   "cell_type": "code",
   "execution_count": 15,
   "metadata": {
    "scrolled": true
   },
   "outputs": [
    {
     "data": {
      "text/html": [
       "<div>\n",
       "<style scoped>\n",
       "    .dataframe tbody tr th:only-of-type {\n",
       "        vertical-align: middle;\n",
       "    }\n",
       "\n",
       "    .dataframe tbody tr th {\n",
       "        vertical-align: top;\n",
       "    }\n",
       "\n",
       "    .dataframe thead th {\n",
       "        text-align: right;\n",
       "    }\n",
       "</style>\n",
       "<table border=\"1\" class=\"dataframe\">\n",
       "  <thead>\n",
       "    <tr style=\"text-align: right;\">\n",
       "      <th></th>\n",
       "      <th>hotstar_id</th>\n",
       "      <th>title</th>\n",
       "      <th>description</th>\n",
       "      <th>genre</th>\n",
       "      <th>year</th>\n",
       "      <th>age_rating</th>\n",
       "      <th>running_time</th>\n",
       "      <th>seasons</th>\n",
       "      <th>episodes</th>\n",
       "      <th>type</th>\n",
       "    </tr>\n",
       "  </thead>\n",
       "  <tbody>\n",
       "    <tr>\n",
       "      <th>0</th>\n",
       "      <td>1000232077</td>\n",
       "      <td>Ram Gopal Varma ki Aag</td>\n",
       "      <td>Dacoit Babban Singh is on the loose in Kaligan...</td>\n",
       "      <td>Action</td>\n",
       "      <td>2007</td>\n",
       "      <td>U/A 13+</td>\n",
       "      <td>152.0</td>\n",
       "      <td>NaN</td>\n",
       "      <td>NaN</td>\n",
       "      <td>movie</td>\n",
       "    </tr>\n",
       "    <tr>\n",
       "      <th>1</th>\n",
       "      <td>1000164652</td>\n",
       "      <td>Niyogam</td>\n",
       "      <td>A mediator between the deity and the devotees,...</td>\n",
       "      <td>Drama</td>\n",
       "      <td>1997</td>\n",
       "      <td>U/A 13+</td>\n",
       "      <td>101.0</td>\n",
       "      <td>NaN</td>\n",
       "      <td>NaN</td>\n",
       "      <td>movie</td>\n",
       "    </tr>\n",
       "    <tr>\n",
       "      <th>2</th>\n",
       "      <td>1000105823</td>\n",
       "      <td>Injakkadan Mathai &amp; Sons</td>\n",
       "      <td>Injakkadan Mathai and his sons, Roy and Thanka...</td>\n",
       "      <td>Action</td>\n",
       "      <td>1993</td>\n",
       "      <td>U/A 7+</td>\n",
       "      <td>122.0</td>\n",
       "      <td>NaN</td>\n",
       "      <td>NaN</td>\n",
       "      <td>movie</td>\n",
       "    </tr>\n",
       "    <tr>\n",
       "      <th>3</th>\n",
       "      <td>1000163530</td>\n",
       "      <td>Viyarppinte Vila</td>\n",
       "      <td>An impoverished landlord lives in past glory a...</td>\n",
       "      <td>Drama</td>\n",
       "      <td>1962</td>\n",
       "      <td>U</td>\n",
       "      <td>149.0</td>\n",
       "      <td>NaN</td>\n",
       "      <td>NaN</td>\n",
       "      <td>movie</td>\n",
       "    </tr>\n",
       "    <tr>\n",
       "      <th>4</th>\n",
       "      <td>1820041764</td>\n",
       "      <td>Ek Mulaqat</td>\n",
       "      <td>Two strangers, Avi and Nikita meet at a party ...</td>\n",
       "      <td>Romance</td>\n",
       "      <td>2019</td>\n",
       "      <td>U</td>\n",
       "      <td>7.0</td>\n",
       "      <td>NaN</td>\n",
       "      <td>NaN</td>\n",
       "      <td>movie</td>\n",
       "    </tr>\n",
       "    <tr>\n",
       "      <th>...</th>\n",
       "      <td>...</td>\n",
       "      <td>...</td>\n",
       "      <td>...</td>\n",
       "      <td>...</td>\n",
       "      <td>...</td>\n",
       "      <td>...</td>\n",
       "      <td>...</td>\n",
       "      <td>...</td>\n",
       "      <td>...</td>\n",
       "      <td>...</td>\n",
       "    </tr>\n",
       "    <tr>\n",
       "      <th>6647</th>\n",
       "      <td>1260003841</td>\n",
       "      <td>Anandyatree</td>\n",
       "      <td>Popular Marathi singers, Suresh Wadkar, Swapni...</td>\n",
       "      <td>Concert Film</td>\n",
       "      <td>2019</td>\n",
       "      <td>U</td>\n",
       "      <td>NaN</td>\n",
       "      <td>1.0</td>\n",
       "      <td>5.0</td>\n",
       "      <td>tv</td>\n",
       "    </tr>\n",
       "    <tr>\n",
       "      <th>6648</th>\n",
       "      <td>1260108360</td>\n",
       "      <td>Cook Like a Chef</td>\n",
       "      <td>This innovative, ground-breaking series featur...</td>\n",
       "      <td>Food</td>\n",
       "      <td>2001</td>\n",
       "      <td>U/A 16+</td>\n",
       "      <td>NaN</td>\n",
       "      <td>1.0</td>\n",
       "      <td>39.0</td>\n",
       "      <td>tv</td>\n",
       "    </tr>\n",
       "    <tr>\n",
       "      <th>6649</th>\n",
       "      <td>1260067695</td>\n",
       "      <td>Star Kids - Daddy Daddy O My Daddy</td>\n",
       "      <td>Vijay TV stars and their adorable tiny tots ar...</td>\n",
       "      <td>Reality</td>\n",
       "      <td>2021</td>\n",
       "      <td>U/A 13+</td>\n",
       "      <td>NaN</td>\n",
       "      <td>1.0</td>\n",
       "      <td>1.0</td>\n",
       "      <td>tv</td>\n",
       "    </tr>\n",
       "    <tr>\n",
       "      <th>6650</th>\n",
       "      <td>1260025773</td>\n",
       "      <td>Disney's Recess</td>\n",
       "      <td>Recess portrays the lives of six fourth-grader...</td>\n",
       "      <td>Comedy</td>\n",
       "      <td>1997</td>\n",
       "      <td>U</td>\n",
       "      <td>NaN</td>\n",
       "      <td>3.0</td>\n",
       "      <td>65.0</td>\n",
       "      <td>tv</td>\n",
       "    </tr>\n",
       "    <tr>\n",
       "      <th>6651</th>\n",
       "      <td>1260001799</td>\n",
       "      <td>Ind vs WI 2018 Countdown Tamil</td>\n",
       "      <td>Watch the best moments from West Indies' tour ...</td>\n",
       "      <td>Sport</td>\n",
       "      <td>2018</td>\n",
       "      <td>U</td>\n",
       "      <td>NaN</td>\n",
       "      <td>1.0</td>\n",
       "      <td>2.0</td>\n",
       "      <td>tv</td>\n",
       "    </tr>\n",
       "  </tbody>\n",
       "</table>\n",
       "<p>6652 rows × 10 columns</p>\n",
       "</div>"
      ],
      "text/plain": [
       "      hotstar_id                               title  \\\n",
       "0     1000232077              Ram Gopal Varma ki Aag   \n",
       "1     1000164652                             Niyogam   \n",
       "2     1000105823            Injakkadan Mathai & Sons   \n",
       "3     1000163530                    Viyarppinte Vila   \n",
       "4     1820041764                          Ek Mulaqat   \n",
       "...          ...                                 ...   \n",
       "6647  1260003841                         Anandyatree   \n",
       "6648  1260108360                    Cook Like a Chef   \n",
       "6649  1260067695  Star Kids - Daddy Daddy O My Daddy   \n",
       "6650  1260025773                     Disney's Recess   \n",
       "6651  1260001799      Ind vs WI 2018 Countdown Tamil   \n",
       "\n",
       "                                            description         genre  year  \\\n",
       "0     Dacoit Babban Singh is on the loose in Kaligan...        Action  2007   \n",
       "1     A mediator between the deity and the devotees,...         Drama  1997   \n",
       "2     Injakkadan Mathai and his sons, Roy and Thanka...        Action  1993   \n",
       "3     An impoverished landlord lives in past glory a...         Drama  1962   \n",
       "4     Two strangers, Avi and Nikita meet at a party ...       Romance  2019   \n",
       "...                                                 ...           ...   ...   \n",
       "6647  Popular Marathi singers, Suresh Wadkar, Swapni...  Concert Film  2019   \n",
       "6648  This innovative, ground-breaking series featur...          Food  2001   \n",
       "6649  Vijay TV stars and their adorable tiny tots ar...       Reality  2021   \n",
       "6650  Recess portrays the lives of six fourth-grader...        Comedy  1997   \n",
       "6651  Watch the best moments from West Indies' tour ...         Sport  2018   \n",
       "\n",
       "     age_rating  running_time  seasons  episodes   type  \n",
       "0       U/A 13+         152.0      NaN       NaN  movie  \n",
       "1       U/A 13+         101.0      NaN       NaN  movie  \n",
       "2        U/A 7+         122.0      NaN       NaN  movie  \n",
       "3             U         149.0      NaN       NaN  movie  \n",
       "4             U           7.0      NaN       NaN  movie  \n",
       "...         ...           ...      ...       ...    ...  \n",
       "6647          U           NaN      1.0       5.0     tv  \n",
       "6648    U/A 16+           NaN      1.0      39.0     tv  \n",
       "6649    U/A 13+           NaN      1.0       1.0     tv  \n",
       "6650          U           NaN      3.0      65.0     tv  \n",
       "6651          U           NaN      1.0       2.0     tv  \n",
       "\n",
       "[6652 rows x 10 columns]"
      ]
     },
     "execution_count": 15,
     "metadata": {},
     "output_type": "execute_result"
    }
   ],
   "source": [
    "hotstar_df"
   ]
  },
  {
   "cell_type": "markdown",
   "metadata": {},
   "source": [
    "The dataset contains 6652 rows and 10 columns(we found there are some missing values in `running time`, `seasons` and `episodes` in the datasets."
   ]
  },
  {
   "cell_type": "code",
   "execution_count": 16,
   "metadata": {},
   "outputs": [
    {
     "data": {
      "text/plain": [
       "(6652, 10)"
      ]
     },
     "execution_count": 16,
     "metadata": {},
     "output_type": "execute_result"
    }
   ],
   "source": [
    "hotstar_df.shape"
   ]
  },
  {
   "cell_type": "markdown",
   "metadata": {},
   "source": [
    "We found 6652 rows and 10 columns"
   ]
  },
  {
   "cell_type": "markdown",
   "metadata": {},
   "source": [
    "Now we are going to handle missing data."
   ]
  },
  {
   "cell_type": "markdown",
   "metadata": {},
   "source": [
    "Now Let's Check that how many missing values are contained in the datasets. "
   ]
  },
  {
   "cell_type": "code",
   "execution_count": 17,
   "metadata": {},
   "outputs": [
    {
     "name": "stdout",
     "output_type": "stream",
     "text": [
      "<class 'pandas.core.frame.DataFrame'>\n",
      "RangeIndex: 6652 entries, 0 to 6651\n",
      "Data columns (total 10 columns):\n",
      " #   Column        Non-Null Count  Dtype  \n",
      "---  ------        --------------  -----  \n",
      " 0   hotstar_id    6652 non-null   int64  \n",
      " 1   title         6652 non-null   object \n",
      " 2   description   6652 non-null   object \n",
      " 3   genre         6652 non-null   object \n",
      " 4   year          6652 non-null   int64  \n",
      " 5   age_rating    6652 non-null   object \n",
      " 6   running_time  4419 non-null   float64\n",
      " 7   seasons       2233 non-null   float64\n",
      " 8   episodes      2233 non-null   float64\n",
      " 9   type          6652 non-null   object \n",
      "dtypes: float64(3), int64(2), object(5)\n",
      "memory usage: 519.8+ KB\n"
     ]
    }
   ],
   "source": [
    "hotstar_df.info()"
   ]
  },
  {
   "cell_type": "markdown",
   "metadata": {},
   "source": [
    "In the dataset we found that `seasons` and `episodes` columns contains 2233 `non-null` value."
   ]
  },
  {
   "cell_type": "code",
   "execution_count": 18,
   "metadata": {
    "scrolled": true
   },
   "outputs": [
    {
     "data": {
      "text/plain": [
       "hotstar_id         0\n",
       "title              0\n",
       "description        0\n",
       "genre              0\n",
       "year               0\n",
       "age_rating         0\n",
       "running_time    2233\n",
       "seasons         4419\n",
       "episodes        4419\n",
       "type               0\n",
       "dtype: int64"
      ]
     },
     "execution_count": 18,
     "metadata": {},
     "output_type": "execute_result"
    }
   ],
   "source": [
    "hotstar_df.isnull().sum()"
   ]
  },
  {
   "cell_type": "code",
   "execution_count": 19,
   "metadata": {},
   "outputs": [
    {
     "data": {
      "text/plain": [
       "4419"
      ]
     },
     "execution_count": 19,
     "metadata": {},
     "output_type": "execute_result"
    }
   ],
   "source": [
    "hotstar_df.seasons.first_valid_index()"
   ]
  },
  {
   "cell_type": "code",
   "execution_count": 20,
   "metadata": {
    "scrolled": true
   },
   "outputs": [
    {
     "data": {
      "text/plain": [
       "4419"
      ]
     },
     "execution_count": 20,
     "metadata": {},
     "output_type": "execute_result"
    }
   ],
   "source": [
    "hotstar_df.episodes.first_valid_index()"
   ]
  },
  {
   "cell_type": "code",
   "execution_count": 21,
   "metadata": {
    "scrolled": true
   },
   "outputs": [
    {
     "data": {
      "text/plain": [
       "4418"
      ]
     },
     "execution_count": 21,
     "metadata": {},
     "output_type": "execute_result"
    }
   ],
   "source": [
    "hotstar_df.running_time.last_valid_index()"
   ]
  },
  {
   "cell_type": "code",
   "execution_count": 22,
   "metadata": {},
   "outputs": [
    {
     "data": {
      "text/html": [
       "<div>\n",
       "<style scoped>\n",
       "    .dataframe tbody tr th:only-of-type {\n",
       "        vertical-align: middle;\n",
       "    }\n",
       "\n",
       "    .dataframe tbody tr th {\n",
       "        vertical-align: top;\n",
       "    }\n",
       "\n",
       "    .dataframe thead th {\n",
       "        text-align: right;\n",
       "    }\n",
       "</style>\n",
       "<table border=\"1\" class=\"dataframe\">\n",
       "  <thead>\n",
       "    <tr style=\"text-align: right;\">\n",
       "      <th></th>\n",
       "      <th>hotstar_id</th>\n",
       "      <th>title</th>\n",
       "      <th>description</th>\n",
       "      <th>genre</th>\n",
       "      <th>year</th>\n",
       "      <th>age_rating</th>\n",
       "      <th>running_time</th>\n",
       "      <th>seasons</th>\n",
       "      <th>episodes</th>\n",
       "      <th>type</th>\n",
       "    </tr>\n",
       "  </thead>\n",
       "  <tbody>\n",
       "    <tr>\n",
       "      <th>4418</th>\n",
       "      <td>1000230679</td>\n",
       "      <td>Yuntum</td>\n",
       "      <td>Madly in love with his class mate Meera, music...</td>\n",
       "      <td>Romance</td>\n",
       "      <td>2018</td>\n",
       "      <td>U/A 13+</td>\n",
       "      <td>137.0</td>\n",
       "      <td>NaN</td>\n",
       "      <td>NaN</td>\n",
       "      <td>movie</td>\n",
       "    </tr>\n",
       "    <tr>\n",
       "      <th>4419</th>\n",
       "      <td>8182</td>\n",
       "      <td>Bhakton Ki Bhakti Mein Shakti</td>\n",
       "      <td>Can faith move mountains? Watch these stories ...</td>\n",
       "      <td>Drama</td>\n",
       "      <td>2016</td>\n",
       "      <td>U/A 13+</td>\n",
       "      <td>NaN</td>\n",
       "      <td>1.0</td>\n",
       "      <td>30.0</td>\n",
       "      <td>tv</td>\n",
       "    </tr>\n",
       "    <tr>\n",
       "      <th>4420</th>\n",
       "      <td>3012</td>\n",
       "      <td>Ajith Best Moments</td>\n",
       "      <td>Follow the journey of the immensely popular an...</td>\n",
       "      <td>Reality</td>\n",
       "      <td>2015</td>\n",
       "      <td>U</td>\n",
       "      <td>NaN</td>\n",
       "      <td>1.0</td>\n",
       "      <td>1.0</td>\n",
       "      <td>tv</td>\n",
       "    </tr>\n",
       "    <tr>\n",
       "      <th>4421</th>\n",
       "      <td>11</td>\n",
       "      <td>Saraswatichandra</td>\n",
       "      <td>In this classic tale of love and heartbreak, S...</td>\n",
       "      <td>Romance</td>\n",
       "      <td>2013</td>\n",
       "      <td>U/A 13+</td>\n",
       "      <td>NaN</td>\n",
       "      <td>15.0</td>\n",
       "      <td>444.0</td>\n",
       "      <td>tv</td>\n",
       "    </tr>\n",
       "    <tr>\n",
       "      <th>4422</th>\n",
       "      <td>1260065351</td>\n",
       "      <td>Turner &amp; Hooch</td>\n",
       "      <td>A Deputy Marshal inherits an unruly dog who he...</td>\n",
       "      <td>Comedy</td>\n",
       "      <td>2021</td>\n",
       "      <td>U/A 7+</td>\n",
       "      <td>NaN</td>\n",
       "      <td>1.0</td>\n",
       "      <td>12.0</td>\n",
       "      <td>tv</td>\n",
       "    </tr>\n",
       "    <tr>\n",
       "      <th>...</th>\n",
       "      <td>...</td>\n",
       "      <td>...</td>\n",
       "      <td>...</td>\n",
       "      <td>...</td>\n",
       "      <td>...</td>\n",
       "      <td>...</td>\n",
       "      <td>...</td>\n",
       "      <td>...</td>\n",
       "      <td>...</td>\n",
       "      <td>...</td>\n",
       "    </tr>\n",
       "    <tr>\n",
       "      <th>6647</th>\n",
       "      <td>1260003841</td>\n",
       "      <td>Anandyatree</td>\n",
       "      <td>Popular Marathi singers, Suresh Wadkar, Swapni...</td>\n",
       "      <td>Concert Film</td>\n",
       "      <td>2019</td>\n",
       "      <td>U</td>\n",
       "      <td>NaN</td>\n",
       "      <td>1.0</td>\n",
       "      <td>5.0</td>\n",
       "      <td>tv</td>\n",
       "    </tr>\n",
       "    <tr>\n",
       "      <th>6648</th>\n",
       "      <td>1260108360</td>\n",
       "      <td>Cook Like a Chef</td>\n",
       "      <td>This innovative, ground-breaking series featur...</td>\n",
       "      <td>Food</td>\n",
       "      <td>2001</td>\n",
       "      <td>U/A 16+</td>\n",
       "      <td>NaN</td>\n",
       "      <td>1.0</td>\n",
       "      <td>39.0</td>\n",
       "      <td>tv</td>\n",
       "    </tr>\n",
       "    <tr>\n",
       "      <th>6649</th>\n",
       "      <td>1260067695</td>\n",
       "      <td>Star Kids - Daddy Daddy O My Daddy</td>\n",
       "      <td>Vijay TV stars and their adorable tiny tots ar...</td>\n",
       "      <td>Reality</td>\n",
       "      <td>2021</td>\n",
       "      <td>U/A 13+</td>\n",
       "      <td>NaN</td>\n",
       "      <td>1.0</td>\n",
       "      <td>1.0</td>\n",
       "      <td>tv</td>\n",
       "    </tr>\n",
       "    <tr>\n",
       "      <th>6650</th>\n",
       "      <td>1260025773</td>\n",
       "      <td>Disney's Recess</td>\n",
       "      <td>Recess portrays the lives of six fourth-grader...</td>\n",
       "      <td>Comedy</td>\n",
       "      <td>1997</td>\n",
       "      <td>U</td>\n",
       "      <td>NaN</td>\n",
       "      <td>3.0</td>\n",
       "      <td>65.0</td>\n",
       "      <td>tv</td>\n",
       "    </tr>\n",
       "    <tr>\n",
       "      <th>6651</th>\n",
       "      <td>1260001799</td>\n",
       "      <td>Ind vs WI 2018 Countdown Tamil</td>\n",
       "      <td>Watch the best moments from West Indies' tour ...</td>\n",
       "      <td>Sport</td>\n",
       "      <td>2018</td>\n",
       "      <td>U</td>\n",
       "      <td>NaN</td>\n",
       "      <td>1.0</td>\n",
       "      <td>2.0</td>\n",
       "      <td>tv</td>\n",
       "    </tr>\n",
       "  </tbody>\n",
       "</table>\n",
       "<p>2234 rows × 10 columns</p>\n",
       "</div>"
      ],
      "text/plain": [
       "      hotstar_id                               title  \\\n",
       "4418  1000230679                              Yuntum   \n",
       "4419        8182       Bhakton Ki Bhakti Mein Shakti   \n",
       "4420        3012                  Ajith Best Moments   \n",
       "4421          11                    Saraswatichandra   \n",
       "4422  1260065351                      Turner & Hooch   \n",
       "...          ...                                 ...   \n",
       "6647  1260003841                         Anandyatree   \n",
       "6648  1260108360                    Cook Like a Chef   \n",
       "6649  1260067695  Star Kids - Daddy Daddy O My Daddy   \n",
       "6650  1260025773                     Disney's Recess   \n",
       "6651  1260001799      Ind vs WI 2018 Countdown Tamil   \n",
       "\n",
       "                                            description         genre  year  \\\n",
       "4418  Madly in love with his class mate Meera, music...       Romance  2018   \n",
       "4419  Can faith move mountains? Watch these stories ...         Drama  2016   \n",
       "4420  Follow the journey of the immensely popular an...       Reality  2015   \n",
       "4421  In this classic tale of love and heartbreak, S...       Romance  2013   \n",
       "4422  A Deputy Marshal inherits an unruly dog who he...        Comedy  2021   \n",
       "...                                                 ...           ...   ...   \n",
       "6647  Popular Marathi singers, Suresh Wadkar, Swapni...  Concert Film  2019   \n",
       "6648  This innovative, ground-breaking series featur...          Food  2001   \n",
       "6649  Vijay TV stars and their adorable tiny tots ar...       Reality  2021   \n",
       "6650  Recess portrays the lives of six fourth-grader...        Comedy  1997   \n",
       "6651  Watch the best moments from West Indies' tour ...         Sport  2018   \n",
       "\n",
       "     age_rating  running_time  seasons  episodes   type  \n",
       "4418    U/A 13+         137.0      NaN       NaN  movie  \n",
       "4419    U/A 13+           NaN      1.0      30.0     tv  \n",
       "4420          U           NaN      1.0       1.0     tv  \n",
       "4421    U/A 13+           NaN     15.0     444.0     tv  \n",
       "4422     U/A 7+           NaN      1.0      12.0     tv  \n",
       "...         ...           ...      ...       ...    ...  \n",
       "6647          U           NaN      1.0       5.0     tv  \n",
       "6648    U/A 16+           NaN      1.0      39.0     tv  \n",
       "6649    U/A 13+           NaN      1.0       1.0     tv  \n",
       "6650          U           NaN      3.0      65.0     tv  \n",
       "6651          U           NaN      1.0       2.0     tv  \n",
       "\n",
       "[2234 rows x 10 columns]"
      ]
     },
     "execution_count": 22,
     "metadata": {},
     "output_type": "execute_result"
    }
   ],
   "source": [
    "hotstar_df.loc[4418:6651]"
   ]
  },
  {
   "cell_type": "code",
   "execution_count": 23,
   "metadata": {},
   "outputs": [
    {
     "data": {
      "text/html": [
       "<div>\n",
       "<style scoped>\n",
       "    .dataframe tbody tr th:only-of-type {\n",
       "        vertical-align: middle;\n",
       "    }\n",
       "\n",
       "    .dataframe tbody tr th {\n",
       "        vertical-align: top;\n",
       "    }\n",
       "\n",
       "    .dataframe thead th {\n",
       "        text-align: right;\n",
       "    }\n",
       "</style>\n",
       "<table border=\"1\" class=\"dataframe\">\n",
       "  <thead>\n",
       "    <tr style=\"text-align: right;\">\n",
       "      <th></th>\n",
       "      <th>hotstar_id</th>\n",
       "      <th>title</th>\n",
       "      <th>description</th>\n",
       "      <th>genre</th>\n",
       "      <th>year</th>\n",
       "      <th>age_rating</th>\n",
       "      <th>running_time</th>\n",
       "      <th>seasons</th>\n",
       "      <th>episodes</th>\n",
       "      <th>type</th>\n",
       "    </tr>\n",
       "  </thead>\n",
       "  <tbody>\n",
       "    <tr>\n",
       "      <th>0</th>\n",
       "      <td>1000232077</td>\n",
       "      <td>Ram Gopal Varma ki Aag</td>\n",
       "      <td>Dacoit Babban Singh is on the loose in Kaligan...</td>\n",
       "      <td>Action</td>\n",
       "      <td>2007</td>\n",
       "      <td>U/A 13+</td>\n",
       "      <td>152.0</td>\n",
       "      <td>NaN</td>\n",
       "      <td>NaN</td>\n",
       "      <td>movie</td>\n",
       "    </tr>\n",
       "    <tr>\n",
       "      <th>1</th>\n",
       "      <td>1000164652</td>\n",
       "      <td>Niyogam</td>\n",
       "      <td>A mediator between the deity and the devotees,...</td>\n",
       "      <td>Drama</td>\n",
       "      <td>1997</td>\n",
       "      <td>U/A 13+</td>\n",
       "      <td>101.0</td>\n",
       "      <td>NaN</td>\n",
       "      <td>NaN</td>\n",
       "      <td>movie</td>\n",
       "    </tr>\n",
       "    <tr>\n",
       "      <th>2</th>\n",
       "      <td>1000105823</td>\n",
       "      <td>Injakkadan Mathai &amp; Sons</td>\n",
       "      <td>Injakkadan Mathai and his sons, Roy and Thanka...</td>\n",
       "      <td>Action</td>\n",
       "      <td>1993</td>\n",
       "      <td>U/A 7+</td>\n",
       "      <td>122.0</td>\n",
       "      <td>NaN</td>\n",
       "      <td>NaN</td>\n",
       "      <td>movie</td>\n",
       "    </tr>\n",
       "    <tr>\n",
       "      <th>3</th>\n",
       "      <td>1000163530</td>\n",
       "      <td>Viyarppinte Vila</td>\n",
       "      <td>An impoverished landlord lives in past glory a...</td>\n",
       "      <td>Drama</td>\n",
       "      <td>1962</td>\n",
       "      <td>U</td>\n",
       "      <td>149.0</td>\n",
       "      <td>NaN</td>\n",
       "      <td>NaN</td>\n",
       "      <td>movie</td>\n",
       "    </tr>\n",
       "    <tr>\n",
       "      <th>4</th>\n",
       "      <td>1820041764</td>\n",
       "      <td>Ek Mulaqat</td>\n",
       "      <td>Two strangers, Avi and Nikita meet at a party ...</td>\n",
       "      <td>Romance</td>\n",
       "      <td>2019</td>\n",
       "      <td>U</td>\n",
       "      <td>7.0</td>\n",
       "      <td>NaN</td>\n",
       "      <td>NaN</td>\n",
       "      <td>movie</td>\n",
       "    </tr>\n",
       "    <tr>\n",
       "      <th>...</th>\n",
       "      <td>...</td>\n",
       "      <td>...</td>\n",
       "      <td>...</td>\n",
       "      <td>...</td>\n",
       "      <td>...</td>\n",
       "      <td>...</td>\n",
       "      <td>...</td>\n",
       "      <td>...</td>\n",
       "      <td>...</td>\n",
       "      <td>...</td>\n",
       "    </tr>\n",
       "    <tr>\n",
       "      <th>4414</th>\n",
       "      <td>1000098596</td>\n",
       "      <td>Ningi Nela Naade</td>\n",
       "      <td>Join Zihua, a physically challenged teenager, ...</td>\n",
       "      <td>Drama</td>\n",
       "      <td>2009</td>\n",
       "      <td>U/A 13+</td>\n",
       "      <td>88.0</td>\n",
       "      <td>NaN</td>\n",
       "      <td>NaN</td>\n",
       "      <td>movie</td>\n",
       "    </tr>\n",
       "    <tr>\n",
       "      <th>4415</th>\n",
       "      <td>1000104631</td>\n",
       "      <td>Ishq</td>\n",
       "      <td>When Ajay and Madhu's rich dads oppose their r...</td>\n",
       "      <td>Comedy</td>\n",
       "      <td>1997</td>\n",
       "      <td>U/A 13+</td>\n",
       "      <td>156.0</td>\n",
       "      <td>NaN</td>\n",
       "      <td>NaN</td>\n",
       "      <td>movie</td>\n",
       "    </tr>\n",
       "    <tr>\n",
       "      <th>4416</th>\n",
       "      <td>1770002602</td>\n",
       "      <td>Bouman Banbas</td>\n",
       "      <td>A king is considered to be unlucky by his subj...</td>\n",
       "      <td>Drama</td>\n",
       "      <td>1998</td>\n",
       "      <td>U/A 7+</td>\n",
       "      <td>161.0</td>\n",
       "      <td>NaN</td>\n",
       "      <td>NaN</td>\n",
       "      <td>movie</td>\n",
       "    </tr>\n",
       "    <tr>\n",
       "      <th>4417</th>\n",
       "      <td>1770021193</td>\n",
       "      <td>Will Ferrell: You're Welcome America. A Final ...</td>\n",
       "      <td>Discover Will Ferrell in his heralded Broadway...</td>\n",
       "      <td>Standup Comedy</td>\n",
       "      <td>2018</td>\n",
       "      <td>A</td>\n",
       "      <td>91.0</td>\n",
       "      <td>NaN</td>\n",
       "      <td>NaN</td>\n",
       "      <td>movie</td>\n",
       "    </tr>\n",
       "    <tr>\n",
       "      <th>4418</th>\n",
       "      <td>1000230679</td>\n",
       "      <td>Yuntum</td>\n",
       "      <td>Madly in love with his class mate Meera, music...</td>\n",
       "      <td>Romance</td>\n",
       "      <td>2018</td>\n",
       "      <td>U/A 13+</td>\n",
       "      <td>137.0</td>\n",
       "      <td>NaN</td>\n",
       "      <td>NaN</td>\n",
       "      <td>movie</td>\n",
       "    </tr>\n",
       "  </tbody>\n",
       "</table>\n",
       "<p>4419 rows × 10 columns</p>\n",
       "</div>"
      ],
      "text/plain": [
       "      hotstar_id                                              title  \\\n",
       "0     1000232077                             Ram Gopal Varma ki Aag   \n",
       "1     1000164652                                            Niyogam   \n",
       "2     1000105823                           Injakkadan Mathai & Sons   \n",
       "3     1000163530                                   Viyarppinte Vila   \n",
       "4     1820041764                                         Ek Mulaqat   \n",
       "...          ...                                                ...   \n",
       "4414  1000098596                                   Ningi Nela Naade   \n",
       "4415  1000104631                                               Ishq   \n",
       "4416  1770002602                                      Bouman Banbas   \n",
       "4417  1770021193  Will Ferrell: You're Welcome America. A Final ...   \n",
       "4418  1000230679                                             Yuntum   \n",
       "\n",
       "                                            description           genre  year  \\\n",
       "0     Dacoit Babban Singh is on the loose in Kaligan...          Action  2007   \n",
       "1     A mediator between the deity and the devotees,...           Drama  1997   \n",
       "2     Injakkadan Mathai and his sons, Roy and Thanka...          Action  1993   \n",
       "3     An impoverished landlord lives in past glory a...           Drama  1962   \n",
       "4     Two strangers, Avi and Nikita meet at a party ...         Romance  2019   \n",
       "...                                                 ...             ...   ...   \n",
       "4414  Join Zihua, a physically challenged teenager, ...           Drama  2009   \n",
       "4415  When Ajay and Madhu's rich dads oppose their r...          Comedy  1997   \n",
       "4416  A king is considered to be unlucky by his subj...           Drama  1998   \n",
       "4417  Discover Will Ferrell in his heralded Broadway...  Standup Comedy  2018   \n",
       "4418  Madly in love with his class mate Meera, music...         Romance  2018   \n",
       "\n",
       "     age_rating  running_time  seasons  episodes   type  \n",
       "0       U/A 13+         152.0      NaN       NaN  movie  \n",
       "1       U/A 13+         101.0      NaN       NaN  movie  \n",
       "2        U/A 7+         122.0      NaN       NaN  movie  \n",
       "3             U         149.0      NaN       NaN  movie  \n",
       "4             U           7.0      NaN       NaN  movie  \n",
       "...         ...           ...      ...       ...    ...  \n",
       "4414    U/A 13+          88.0      NaN       NaN  movie  \n",
       "4415    U/A 13+         156.0      NaN       NaN  movie  \n",
       "4416     U/A 7+         161.0      NaN       NaN  movie  \n",
       "4417          A          91.0      NaN       NaN  movie  \n",
       "4418    U/A 13+         137.0      NaN       NaN  movie  \n",
       "\n",
       "[4419 rows x 10 columns]"
      ]
     },
     "execution_count": 23,
     "metadata": {},
     "output_type": "execute_result"
    }
   ],
   "source": [
    "hotstar_df.loc[:4418]"
   ]
  },
  {
   "cell_type": "markdown",
   "metadata": {},
   "source": [
    "Here we found that first valid index of `seasons`and `episode` is 4419 because the movies list ends at 4418 and tv shows started from 4419. \n",
    "Then we can place 0 at the `NaN`because the movies don't have episode and seasons. And we have to place 0 at running time of tv shows because if we fill the sum value of episode and season then the most duration then in tv shows or movies, tv shows will rank higher in most duration."
   ]
  },
  {
   "cell_type": "markdown",
   "metadata": {},
   "source": [
    "Let's make the copy of dataframe that original dataframe does not affect the change."
   ]
  },
  {
   "cell_type": "code",
   "execution_count": 24,
   "metadata": {},
   "outputs": [],
   "source": [
    "hotstar_new_df = hotstar_df.copy()"
   ]
  },
  {
   "cell_type": "code",
   "execution_count": 25,
   "metadata": {},
   "outputs": [
    {
     "data": {
      "text/html": [
       "<div>\n",
       "<style scoped>\n",
       "    .dataframe tbody tr th:only-of-type {\n",
       "        vertical-align: middle;\n",
       "    }\n",
       "\n",
       "    .dataframe tbody tr th {\n",
       "        vertical-align: top;\n",
       "    }\n",
       "\n",
       "    .dataframe thead th {\n",
       "        text-align: right;\n",
       "    }\n",
       "</style>\n",
       "<table border=\"1\" class=\"dataframe\">\n",
       "  <thead>\n",
       "    <tr style=\"text-align: right;\">\n",
       "      <th></th>\n",
       "      <th>hotstar_id</th>\n",
       "      <th>title</th>\n",
       "      <th>description</th>\n",
       "      <th>genre</th>\n",
       "      <th>year</th>\n",
       "      <th>age_rating</th>\n",
       "      <th>running_time</th>\n",
       "      <th>seasons</th>\n",
       "      <th>episodes</th>\n",
       "      <th>type</th>\n",
       "    </tr>\n",
       "  </thead>\n",
       "  <tbody>\n",
       "    <tr>\n",
       "      <th>0</th>\n",
       "      <td>1000232077</td>\n",
       "      <td>Ram Gopal Varma ki Aag</td>\n",
       "      <td>Dacoit Babban Singh is on the loose in Kaligan...</td>\n",
       "      <td>Action</td>\n",
       "      <td>2007</td>\n",
       "      <td>U/A 13+</td>\n",
       "      <td>152.0</td>\n",
       "      <td>NaN</td>\n",
       "      <td>NaN</td>\n",
       "      <td>movie</td>\n",
       "    </tr>\n",
       "    <tr>\n",
       "      <th>1</th>\n",
       "      <td>1000164652</td>\n",
       "      <td>Niyogam</td>\n",
       "      <td>A mediator between the deity and the devotees,...</td>\n",
       "      <td>Drama</td>\n",
       "      <td>1997</td>\n",
       "      <td>U/A 13+</td>\n",
       "      <td>101.0</td>\n",
       "      <td>NaN</td>\n",
       "      <td>NaN</td>\n",
       "      <td>movie</td>\n",
       "    </tr>\n",
       "    <tr>\n",
       "      <th>2</th>\n",
       "      <td>1000105823</td>\n",
       "      <td>Injakkadan Mathai &amp; Sons</td>\n",
       "      <td>Injakkadan Mathai and his sons, Roy and Thanka...</td>\n",
       "      <td>Action</td>\n",
       "      <td>1993</td>\n",
       "      <td>U/A 7+</td>\n",
       "      <td>122.0</td>\n",
       "      <td>NaN</td>\n",
       "      <td>NaN</td>\n",
       "      <td>movie</td>\n",
       "    </tr>\n",
       "    <tr>\n",
       "      <th>3</th>\n",
       "      <td>1000163530</td>\n",
       "      <td>Viyarppinte Vila</td>\n",
       "      <td>An impoverished landlord lives in past glory a...</td>\n",
       "      <td>Drama</td>\n",
       "      <td>1962</td>\n",
       "      <td>U</td>\n",
       "      <td>149.0</td>\n",
       "      <td>NaN</td>\n",
       "      <td>NaN</td>\n",
       "      <td>movie</td>\n",
       "    </tr>\n",
       "    <tr>\n",
       "      <th>4</th>\n",
       "      <td>1820041764</td>\n",
       "      <td>Ek Mulaqat</td>\n",
       "      <td>Two strangers, Avi and Nikita meet at a party ...</td>\n",
       "      <td>Romance</td>\n",
       "      <td>2019</td>\n",
       "      <td>U</td>\n",
       "      <td>7.0</td>\n",
       "      <td>NaN</td>\n",
       "      <td>NaN</td>\n",
       "      <td>movie</td>\n",
       "    </tr>\n",
       "    <tr>\n",
       "      <th>...</th>\n",
       "      <td>...</td>\n",
       "      <td>...</td>\n",
       "      <td>...</td>\n",
       "      <td>...</td>\n",
       "      <td>...</td>\n",
       "      <td>...</td>\n",
       "      <td>...</td>\n",
       "      <td>...</td>\n",
       "      <td>...</td>\n",
       "      <td>...</td>\n",
       "    </tr>\n",
       "    <tr>\n",
       "      <th>6647</th>\n",
       "      <td>1260003841</td>\n",
       "      <td>Anandyatree</td>\n",
       "      <td>Popular Marathi singers, Suresh Wadkar, Swapni...</td>\n",
       "      <td>Concert Film</td>\n",
       "      <td>2019</td>\n",
       "      <td>U</td>\n",
       "      <td>NaN</td>\n",
       "      <td>1.0</td>\n",
       "      <td>5.0</td>\n",
       "      <td>tv</td>\n",
       "    </tr>\n",
       "    <tr>\n",
       "      <th>6648</th>\n",
       "      <td>1260108360</td>\n",
       "      <td>Cook Like a Chef</td>\n",
       "      <td>This innovative, ground-breaking series featur...</td>\n",
       "      <td>Food</td>\n",
       "      <td>2001</td>\n",
       "      <td>U/A 16+</td>\n",
       "      <td>NaN</td>\n",
       "      <td>1.0</td>\n",
       "      <td>39.0</td>\n",
       "      <td>tv</td>\n",
       "    </tr>\n",
       "    <tr>\n",
       "      <th>6649</th>\n",
       "      <td>1260067695</td>\n",
       "      <td>Star Kids - Daddy Daddy O My Daddy</td>\n",
       "      <td>Vijay TV stars and their adorable tiny tots ar...</td>\n",
       "      <td>Reality</td>\n",
       "      <td>2021</td>\n",
       "      <td>U/A 13+</td>\n",
       "      <td>NaN</td>\n",
       "      <td>1.0</td>\n",
       "      <td>1.0</td>\n",
       "      <td>tv</td>\n",
       "    </tr>\n",
       "    <tr>\n",
       "      <th>6650</th>\n",
       "      <td>1260025773</td>\n",
       "      <td>Disney's Recess</td>\n",
       "      <td>Recess portrays the lives of six fourth-grader...</td>\n",
       "      <td>Comedy</td>\n",
       "      <td>1997</td>\n",
       "      <td>U</td>\n",
       "      <td>NaN</td>\n",
       "      <td>3.0</td>\n",
       "      <td>65.0</td>\n",
       "      <td>tv</td>\n",
       "    </tr>\n",
       "    <tr>\n",
       "      <th>6651</th>\n",
       "      <td>1260001799</td>\n",
       "      <td>Ind vs WI 2018 Countdown Tamil</td>\n",
       "      <td>Watch the best moments from West Indies' tour ...</td>\n",
       "      <td>Sport</td>\n",
       "      <td>2018</td>\n",
       "      <td>U</td>\n",
       "      <td>NaN</td>\n",
       "      <td>1.0</td>\n",
       "      <td>2.0</td>\n",
       "      <td>tv</td>\n",
       "    </tr>\n",
       "  </tbody>\n",
       "</table>\n",
       "<p>6652 rows × 10 columns</p>\n",
       "</div>"
      ],
      "text/plain": [
       "      hotstar_id                               title  \\\n",
       "0     1000232077              Ram Gopal Varma ki Aag   \n",
       "1     1000164652                             Niyogam   \n",
       "2     1000105823            Injakkadan Mathai & Sons   \n",
       "3     1000163530                    Viyarppinte Vila   \n",
       "4     1820041764                          Ek Mulaqat   \n",
       "...          ...                                 ...   \n",
       "6647  1260003841                         Anandyatree   \n",
       "6648  1260108360                    Cook Like a Chef   \n",
       "6649  1260067695  Star Kids - Daddy Daddy O My Daddy   \n",
       "6650  1260025773                     Disney's Recess   \n",
       "6651  1260001799      Ind vs WI 2018 Countdown Tamil   \n",
       "\n",
       "                                            description         genre  year  \\\n",
       "0     Dacoit Babban Singh is on the loose in Kaligan...        Action  2007   \n",
       "1     A mediator between the deity and the devotees,...         Drama  1997   \n",
       "2     Injakkadan Mathai and his sons, Roy and Thanka...        Action  1993   \n",
       "3     An impoverished landlord lives in past glory a...         Drama  1962   \n",
       "4     Two strangers, Avi and Nikita meet at a party ...       Romance  2019   \n",
       "...                                                 ...           ...   ...   \n",
       "6647  Popular Marathi singers, Suresh Wadkar, Swapni...  Concert Film  2019   \n",
       "6648  This innovative, ground-breaking series featur...          Food  2001   \n",
       "6649  Vijay TV stars and their adorable tiny tots ar...       Reality  2021   \n",
       "6650  Recess portrays the lives of six fourth-grader...        Comedy  1997   \n",
       "6651  Watch the best moments from West Indies' tour ...         Sport  2018   \n",
       "\n",
       "     age_rating  running_time  seasons  episodes   type  \n",
       "0       U/A 13+         152.0      NaN       NaN  movie  \n",
       "1       U/A 13+         101.0      NaN       NaN  movie  \n",
       "2        U/A 7+         122.0      NaN       NaN  movie  \n",
       "3             U         149.0      NaN       NaN  movie  \n",
       "4             U           7.0      NaN       NaN  movie  \n",
       "...         ...           ...      ...       ...    ...  \n",
       "6647          U           NaN      1.0       5.0     tv  \n",
       "6648    U/A 16+           NaN      1.0      39.0     tv  \n",
       "6649    U/A 13+           NaN      1.0       1.0     tv  \n",
       "6650          U           NaN      3.0      65.0     tv  \n",
       "6651          U           NaN      1.0       2.0     tv  \n",
       "\n",
       "[6652 rows x 10 columns]"
      ]
     },
     "execution_count": 25,
     "metadata": {},
     "output_type": "execute_result"
    }
   ],
   "source": [
    "hotstar_new_df"
   ]
  },
  {
   "cell_type": "code",
   "execution_count": 26,
   "metadata": {},
   "outputs": [],
   "source": [
    "hotstar_new_df['running_time'].fillna(0, inplace=True);\n",
    "hotstar_new_df['seasons'].fillna(0, inplace=True);\n",
    "hotstar_new_df['episodes'].fillna(0 ,inplace=True);"
   ]
  },
  {
   "cell_type": "code",
   "execution_count": 27,
   "metadata": {},
   "outputs": [
    {
     "data": {
      "text/html": [
       "<div>\n",
       "<style scoped>\n",
       "    .dataframe tbody tr th:only-of-type {\n",
       "        vertical-align: middle;\n",
       "    }\n",
       "\n",
       "    .dataframe tbody tr th {\n",
       "        vertical-align: top;\n",
       "    }\n",
       "\n",
       "    .dataframe thead th {\n",
       "        text-align: right;\n",
       "    }\n",
       "</style>\n",
       "<table border=\"1\" class=\"dataframe\">\n",
       "  <thead>\n",
       "    <tr style=\"text-align: right;\">\n",
       "      <th></th>\n",
       "      <th>hotstar_id</th>\n",
       "      <th>title</th>\n",
       "      <th>description</th>\n",
       "      <th>genre</th>\n",
       "      <th>year</th>\n",
       "      <th>age_rating</th>\n",
       "      <th>running_time</th>\n",
       "      <th>seasons</th>\n",
       "      <th>episodes</th>\n",
       "      <th>type</th>\n",
       "    </tr>\n",
       "  </thead>\n",
       "  <tbody>\n",
       "    <tr>\n",
       "      <th>0</th>\n",
       "      <td>1000232077</td>\n",
       "      <td>Ram Gopal Varma ki Aag</td>\n",
       "      <td>Dacoit Babban Singh is on the loose in Kaligan...</td>\n",
       "      <td>Action</td>\n",
       "      <td>2007</td>\n",
       "      <td>U/A 13+</td>\n",
       "      <td>152.0</td>\n",
       "      <td>0.0</td>\n",
       "      <td>0.0</td>\n",
       "      <td>movie</td>\n",
       "    </tr>\n",
       "    <tr>\n",
       "      <th>1</th>\n",
       "      <td>1000164652</td>\n",
       "      <td>Niyogam</td>\n",
       "      <td>A mediator between the deity and the devotees,...</td>\n",
       "      <td>Drama</td>\n",
       "      <td>1997</td>\n",
       "      <td>U/A 13+</td>\n",
       "      <td>101.0</td>\n",
       "      <td>0.0</td>\n",
       "      <td>0.0</td>\n",
       "      <td>movie</td>\n",
       "    </tr>\n",
       "    <tr>\n",
       "      <th>2</th>\n",
       "      <td>1000105823</td>\n",
       "      <td>Injakkadan Mathai &amp; Sons</td>\n",
       "      <td>Injakkadan Mathai and his sons, Roy and Thanka...</td>\n",
       "      <td>Action</td>\n",
       "      <td>1993</td>\n",
       "      <td>U/A 7+</td>\n",
       "      <td>122.0</td>\n",
       "      <td>0.0</td>\n",
       "      <td>0.0</td>\n",
       "      <td>movie</td>\n",
       "    </tr>\n",
       "    <tr>\n",
       "      <th>3</th>\n",
       "      <td>1000163530</td>\n",
       "      <td>Viyarppinte Vila</td>\n",
       "      <td>An impoverished landlord lives in past glory a...</td>\n",
       "      <td>Drama</td>\n",
       "      <td>1962</td>\n",
       "      <td>U</td>\n",
       "      <td>149.0</td>\n",
       "      <td>0.0</td>\n",
       "      <td>0.0</td>\n",
       "      <td>movie</td>\n",
       "    </tr>\n",
       "    <tr>\n",
       "      <th>4</th>\n",
       "      <td>1820041764</td>\n",
       "      <td>Ek Mulaqat</td>\n",
       "      <td>Two strangers, Avi and Nikita meet at a party ...</td>\n",
       "      <td>Romance</td>\n",
       "      <td>2019</td>\n",
       "      <td>U</td>\n",
       "      <td>7.0</td>\n",
       "      <td>0.0</td>\n",
       "      <td>0.0</td>\n",
       "      <td>movie</td>\n",
       "    </tr>\n",
       "    <tr>\n",
       "      <th>...</th>\n",
       "      <td>...</td>\n",
       "      <td>...</td>\n",
       "      <td>...</td>\n",
       "      <td>...</td>\n",
       "      <td>...</td>\n",
       "      <td>...</td>\n",
       "      <td>...</td>\n",
       "      <td>...</td>\n",
       "      <td>...</td>\n",
       "      <td>...</td>\n",
       "    </tr>\n",
       "    <tr>\n",
       "      <th>6647</th>\n",
       "      <td>1260003841</td>\n",
       "      <td>Anandyatree</td>\n",
       "      <td>Popular Marathi singers, Suresh Wadkar, Swapni...</td>\n",
       "      <td>Concert Film</td>\n",
       "      <td>2019</td>\n",
       "      <td>U</td>\n",
       "      <td>0.0</td>\n",
       "      <td>1.0</td>\n",
       "      <td>5.0</td>\n",
       "      <td>tv</td>\n",
       "    </tr>\n",
       "    <tr>\n",
       "      <th>6648</th>\n",
       "      <td>1260108360</td>\n",
       "      <td>Cook Like a Chef</td>\n",
       "      <td>This innovative, ground-breaking series featur...</td>\n",
       "      <td>Food</td>\n",
       "      <td>2001</td>\n",
       "      <td>U/A 16+</td>\n",
       "      <td>0.0</td>\n",
       "      <td>1.0</td>\n",
       "      <td>39.0</td>\n",
       "      <td>tv</td>\n",
       "    </tr>\n",
       "    <tr>\n",
       "      <th>6649</th>\n",
       "      <td>1260067695</td>\n",
       "      <td>Star Kids - Daddy Daddy O My Daddy</td>\n",
       "      <td>Vijay TV stars and their adorable tiny tots ar...</td>\n",
       "      <td>Reality</td>\n",
       "      <td>2021</td>\n",
       "      <td>U/A 13+</td>\n",
       "      <td>0.0</td>\n",
       "      <td>1.0</td>\n",
       "      <td>1.0</td>\n",
       "      <td>tv</td>\n",
       "    </tr>\n",
       "    <tr>\n",
       "      <th>6650</th>\n",
       "      <td>1260025773</td>\n",
       "      <td>Disney's Recess</td>\n",
       "      <td>Recess portrays the lives of six fourth-grader...</td>\n",
       "      <td>Comedy</td>\n",
       "      <td>1997</td>\n",
       "      <td>U</td>\n",
       "      <td>0.0</td>\n",
       "      <td>3.0</td>\n",
       "      <td>65.0</td>\n",
       "      <td>tv</td>\n",
       "    </tr>\n",
       "    <tr>\n",
       "      <th>6651</th>\n",
       "      <td>1260001799</td>\n",
       "      <td>Ind vs WI 2018 Countdown Tamil</td>\n",
       "      <td>Watch the best moments from West Indies' tour ...</td>\n",
       "      <td>Sport</td>\n",
       "      <td>2018</td>\n",
       "      <td>U</td>\n",
       "      <td>0.0</td>\n",
       "      <td>1.0</td>\n",
       "      <td>2.0</td>\n",
       "      <td>tv</td>\n",
       "    </tr>\n",
       "  </tbody>\n",
       "</table>\n",
       "<p>6652 rows × 10 columns</p>\n",
       "</div>"
      ],
      "text/plain": [
       "      hotstar_id                               title  \\\n",
       "0     1000232077              Ram Gopal Varma ki Aag   \n",
       "1     1000164652                             Niyogam   \n",
       "2     1000105823            Injakkadan Mathai & Sons   \n",
       "3     1000163530                    Viyarppinte Vila   \n",
       "4     1820041764                          Ek Mulaqat   \n",
       "...          ...                                 ...   \n",
       "6647  1260003841                         Anandyatree   \n",
       "6648  1260108360                    Cook Like a Chef   \n",
       "6649  1260067695  Star Kids - Daddy Daddy O My Daddy   \n",
       "6650  1260025773                     Disney's Recess   \n",
       "6651  1260001799      Ind vs WI 2018 Countdown Tamil   \n",
       "\n",
       "                                            description         genre  year  \\\n",
       "0     Dacoit Babban Singh is on the loose in Kaligan...        Action  2007   \n",
       "1     A mediator between the deity and the devotees,...         Drama  1997   \n",
       "2     Injakkadan Mathai and his sons, Roy and Thanka...        Action  1993   \n",
       "3     An impoverished landlord lives in past glory a...         Drama  1962   \n",
       "4     Two strangers, Avi and Nikita meet at a party ...       Romance  2019   \n",
       "...                                                 ...           ...   ...   \n",
       "6647  Popular Marathi singers, Suresh Wadkar, Swapni...  Concert Film  2019   \n",
       "6648  This innovative, ground-breaking series featur...          Food  2001   \n",
       "6649  Vijay TV stars and their adorable tiny tots ar...       Reality  2021   \n",
       "6650  Recess portrays the lives of six fourth-grader...        Comedy  1997   \n",
       "6651  Watch the best moments from West Indies' tour ...         Sport  2018   \n",
       "\n",
       "     age_rating  running_time  seasons  episodes   type  \n",
       "0       U/A 13+         152.0      0.0       0.0  movie  \n",
       "1       U/A 13+         101.0      0.0       0.0  movie  \n",
       "2        U/A 7+         122.0      0.0       0.0  movie  \n",
       "3             U         149.0      0.0       0.0  movie  \n",
       "4             U           7.0      0.0       0.0  movie  \n",
       "...         ...           ...      ...       ...    ...  \n",
       "6647          U           0.0      1.0       5.0     tv  \n",
       "6648    U/A 16+           0.0      1.0      39.0     tv  \n",
       "6649    U/A 13+           0.0      1.0       1.0     tv  \n",
       "6650          U           0.0      3.0      65.0     tv  \n",
       "6651          U           0.0      1.0       2.0     tv  \n",
       "\n",
       "[6652 rows x 10 columns]"
      ]
     },
     "execution_count": 27,
     "metadata": {},
     "output_type": "execute_result"
    }
   ],
   "source": [
    "hotstar_new_df"
   ]
  },
  {
   "cell_type": "markdown",
   "metadata": {},
   "source": [
    "Here 0 is replaced from nan value, it doesn't means that tv shows duration are 0. It means that either data is missing or there should be another columns especially for tv sshows which contains duration per episode."
   ]
  },
  {
   "cell_type": "code",
   "execution_count": 28,
   "metadata": {},
   "outputs": [
    {
     "data": {
      "text/plain": [
       "hotstar_id      0\n",
       "title           0\n",
       "description     0\n",
       "genre           0\n",
       "year            0\n",
       "age_rating      0\n",
       "running_time    0\n",
       "seasons         0\n",
       "episodes        0\n",
       "type            0\n",
       "dtype: int64"
      ]
     },
     "execution_count": 28,
     "metadata": {},
     "output_type": "execute_result"
    }
   ],
   "source": [
    "hotstar_new_df.isnull().sum()"
   ]
  },
  {
   "cell_type": "markdown",
   "metadata": {},
   "source": [
    "There are no nan value in `hotstar_new_df` dataframe."
   ]
  },
  {
   "cell_type": "code",
   "execution_count": 29,
   "metadata": {},
   "outputs": [],
   "source": [
    "hotstar_new_df.drop(columns=\"description\",inplace=True)"
   ]
  },
  {
   "cell_type": "markdown",
   "metadata": {},
   "source": [
    "Here we don't need the `description`colums so we removed because which contains cast of movies and TV shows, which is not necessary."
   ]
  },
  {
   "cell_type": "code",
   "execution_count": 30,
   "metadata": {},
   "outputs": [
    {
     "data": {
      "text/html": [
       "<div>\n",
       "<style scoped>\n",
       "    .dataframe tbody tr th:only-of-type {\n",
       "        vertical-align: middle;\n",
       "    }\n",
       "\n",
       "    .dataframe tbody tr th {\n",
       "        vertical-align: top;\n",
       "    }\n",
       "\n",
       "    .dataframe thead th {\n",
       "        text-align: right;\n",
       "    }\n",
       "</style>\n",
       "<table border=\"1\" class=\"dataframe\">\n",
       "  <thead>\n",
       "    <tr style=\"text-align: right;\">\n",
       "      <th></th>\n",
       "      <th>hotstar_id</th>\n",
       "      <th>title</th>\n",
       "      <th>genre</th>\n",
       "      <th>year</th>\n",
       "      <th>age_rating</th>\n",
       "      <th>running_time</th>\n",
       "      <th>seasons</th>\n",
       "      <th>episodes</th>\n",
       "      <th>type</th>\n",
       "    </tr>\n",
       "  </thead>\n",
       "  <tbody>\n",
       "    <tr>\n",
       "      <th>0</th>\n",
       "      <td>1000232077</td>\n",
       "      <td>Ram Gopal Varma ki Aag</td>\n",
       "      <td>Action</td>\n",
       "      <td>2007</td>\n",
       "      <td>U/A 13+</td>\n",
       "      <td>152.0</td>\n",
       "      <td>0.0</td>\n",
       "      <td>0.0</td>\n",
       "      <td>movie</td>\n",
       "    </tr>\n",
       "    <tr>\n",
       "      <th>1</th>\n",
       "      <td>1000164652</td>\n",
       "      <td>Niyogam</td>\n",
       "      <td>Drama</td>\n",
       "      <td>1997</td>\n",
       "      <td>U/A 13+</td>\n",
       "      <td>101.0</td>\n",
       "      <td>0.0</td>\n",
       "      <td>0.0</td>\n",
       "      <td>movie</td>\n",
       "    </tr>\n",
       "    <tr>\n",
       "      <th>2</th>\n",
       "      <td>1000105823</td>\n",
       "      <td>Injakkadan Mathai &amp; Sons</td>\n",
       "      <td>Action</td>\n",
       "      <td>1993</td>\n",
       "      <td>U/A 7+</td>\n",
       "      <td>122.0</td>\n",
       "      <td>0.0</td>\n",
       "      <td>0.0</td>\n",
       "      <td>movie</td>\n",
       "    </tr>\n",
       "    <tr>\n",
       "      <th>3</th>\n",
       "      <td>1000163530</td>\n",
       "      <td>Viyarppinte Vila</td>\n",
       "      <td>Drama</td>\n",
       "      <td>1962</td>\n",
       "      <td>U</td>\n",
       "      <td>149.0</td>\n",
       "      <td>0.0</td>\n",
       "      <td>0.0</td>\n",
       "      <td>movie</td>\n",
       "    </tr>\n",
       "    <tr>\n",
       "      <th>4</th>\n",
       "      <td>1820041764</td>\n",
       "      <td>Ek Mulaqat</td>\n",
       "      <td>Romance</td>\n",
       "      <td>2019</td>\n",
       "      <td>U</td>\n",
       "      <td>7.0</td>\n",
       "      <td>0.0</td>\n",
       "      <td>0.0</td>\n",
       "      <td>movie</td>\n",
       "    </tr>\n",
       "    <tr>\n",
       "      <th>...</th>\n",
       "      <td>...</td>\n",
       "      <td>...</td>\n",
       "      <td>...</td>\n",
       "      <td>...</td>\n",
       "      <td>...</td>\n",
       "      <td>...</td>\n",
       "      <td>...</td>\n",
       "      <td>...</td>\n",
       "      <td>...</td>\n",
       "    </tr>\n",
       "    <tr>\n",
       "      <th>6647</th>\n",
       "      <td>1260003841</td>\n",
       "      <td>Anandyatree</td>\n",
       "      <td>Concert Film</td>\n",
       "      <td>2019</td>\n",
       "      <td>U</td>\n",
       "      <td>0.0</td>\n",
       "      <td>1.0</td>\n",
       "      <td>5.0</td>\n",
       "      <td>tv</td>\n",
       "    </tr>\n",
       "    <tr>\n",
       "      <th>6648</th>\n",
       "      <td>1260108360</td>\n",
       "      <td>Cook Like a Chef</td>\n",
       "      <td>Food</td>\n",
       "      <td>2001</td>\n",
       "      <td>U/A 16+</td>\n",
       "      <td>0.0</td>\n",
       "      <td>1.0</td>\n",
       "      <td>39.0</td>\n",
       "      <td>tv</td>\n",
       "    </tr>\n",
       "    <tr>\n",
       "      <th>6649</th>\n",
       "      <td>1260067695</td>\n",
       "      <td>Star Kids - Daddy Daddy O My Daddy</td>\n",
       "      <td>Reality</td>\n",
       "      <td>2021</td>\n",
       "      <td>U/A 13+</td>\n",
       "      <td>0.0</td>\n",
       "      <td>1.0</td>\n",
       "      <td>1.0</td>\n",
       "      <td>tv</td>\n",
       "    </tr>\n",
       "    <tr>\n",
       "      <th>6650</th>\n",
       "      <td>1260025773</td>\n",
       "      <td>Disney's Recess</td>\n",
       "      <td>Comedy</td>\n",
       "      <td>1997</td>\n",
       "      <td>U</td>\n",
       "      <td>0.0</td>\n",
       "      <td>3.0</td>\n",
       "      <td>65.0</td>\n",
       "      <td>tv</td>\n",
       "    </tr>\n",
       "    <tr>\n",
       "      <th>6651</th>\n",
       "      <td>1260001799</td>\n",
       "      <td>Ind vs WI 2018 Countdown Tamil</td>\n",
       "      <td>Sport</td>\n",
       "      <td>2018</td>\n",
       "      <td>U</td>\n",
       "      <td>0.0</td>\n",
       "      <td>1.0</td>\n",
       "      <td>2.0</td>\n",
       "      <td>tv</td>\n",
       "    </tr>\n",
       "  </tbody>\n",
       "</table>\n",
       "<p>6652 rows × 9 columns</p>\n",
       "</div>"
      ],
      "text/plain": [
       "      hotstar_id                               title         genre  year  \\\n",
       "0     1000232077              Ram Gopal Varma ki Aag        Action  2007   \n",
       "1     1000164652                             Niyogam         Drama  1997   \n",
       "2     1000105823            Injakkadan Mathai & Sons        Action  1993   \n",
       "3     1000163530                    Viyarppinte Vila         Drama  1962   \n",
       "4     1820041764                          Ek Mulaqat       Romance  2019   \n",
       "...          ...                                 ...           ...   ...   \n",
       "6647  1260003841                         Anandyatree  Concert Film  2019   \n",
       "6648  1260108360                    Cook Like a Chef          Food  2001   \n",
       "6649  1260067695  Star Kids - Daddy Daddy O My Daddy       Reality  2021   \n",
       "6650  1260025773                     Disney's Recess        Comedy  1997   \n",
       "6651  1260001799      Ind vs WI 2018 Countdown Tamil         Sport  2018   \n",
       "\n",
       "     age_rating  running_time  seasons  episodes   type  \n",
       "0       U/A 13+         152.0      0.0       0.0  movie  \n",
       "1       U/A 13+         101.0      0.0       0.0  movie  \n",
       "2        U/A 7+         122.0      0.0       0.0  movie  \n",
       "3             U         149.0      0.0       0.0  movie  \n",
       "4             U           7.0      0.0       0.0  movie  \n",
       "...         ...           ...      ...       ...    ...  \n",
       "6647          U           0.0      1.0       5.0     tv  \n",
       "6648    U/A 16+           0.0      1.0      39.0     tv  \n",
       "6649    U/A 13+           0.0      1.0       1.0     tv  \n",
       "6650          U           0.0      3.0      65.0     tv  \n",
       "6651          U           0.0      1.0       2.0     tv  \n",
       "\n",
       "[6652 rows x 9 columns]"
      ]
     },
     "execution_count": 30,
     "metadata": {},
     "output_type": "execute_result"
    }
   ],
   "source": [
    "hotstar_new_df"
   ]
  },
  {
   "cell_type": "markdown",
   "metadata": {},
   "source": [
    "`description` columns has been removed from datasets."
   ]
  },
  {
   "cell_type": "code",
   "execution_count": 31,
   "metadata": {},
   "outputs": [
    {
     "name": "stdout",
     "output_type": "stream",
     "text": [
      "<class 'pandas.core.frame.DataFrame'>\n",
      "RangeIndex: 6652 entries, 0 to 6651\n",
      "Data columns (total 9 columns):\n",
      " #   Column        Non-Null Count  Dtype  \n",
      "---  ------        --------------  -----  \n",
      " 0   hotstar_id    6652 non-null   int64  \n",
      " 1   title         6652 non-null   object \n",
      " 2   genre         6652 non-null   object \n",
      " 3   year          6652 non-null   int64  \n",
      " 4   age_rating    6652 non-null   object \n",
      " 5   running_time  6652 non-null   float64\n",
      " 6   seasons       6652 non-null   float64\n",
      " 7   episodes      6652 non-null   float64\n",
      " 8   type          6652 non-null   object \n",
      "dtypes: float64(3), int64(2), object(4)\n",
      "memory usage: 467.8+ KB\n"
     ]
    }
   ],
   "source": [
    "hotstar_new_df.info()"
   ]
  },
  {
   "cell_type": "markdown",
   "metadata": {},
   "source": [
    "Now data is cleaned so we can start our analysis."
   ]
  },
  {
   "cell_type": "code",
   "execution_count": 32,
   "metadata": {},
   "outputs": [],
   "source": [
    "import jovian"
   ]
  },
  {
   "cell_type": "code",
   "execution_count": 33,
   "metadata": {},
   "outputs": [
    {
     "data": {
      "application/javascript": [
       "window.require && require([\"base/js/namespace\"],function(Jupyter){Jupyter.notebook.save_checkpoint()})"
      ],
      "text/plain": [
       "<IPython.core.display.Javascript object>"
      ]
     },
     "metadata": {},
     "output_type": "display_data"
    },
    {
     "name": "stdout",
     "output_type": "stream",
     "text": [
      "[jovian] Updating notebook \"vinayakpandey372/hotstar-data-analysis\" on https://jovian.ai\u001b[0m\n",
      "[jovian] Committed successfully! https://jovian.ai/vinayakpandey372/hotstar-data-analysis\u001b[0m\n"
     ]
    },
    {
     "data": {
      "text/plain": [
       "'https://jovian.ai/vinayakpandey372/hotstar-data-analysis'"
      ]
     },
     "execution_count": 33,
     "metadata": {},
     "output_type": "execute_result"
    }
   ],
   "source": [
    "jovian.commit()"
   ]
  },
  {
   "cell_type": "markdown",
   "metadata": {},
   "source": [
    "## Exploratory Analysis and Visualization\n",
    "\n",
    "As we cleaned our data so we can analyze through `Visualization`.\n",
    "\n",
    "`Visualization` is the process in which we analyze the data in meaningful results.\n"
   ]
  },
  {
   "cell_type": "markdown",
   "metadata": {},
   "source": [
    "Let's begin by importing`matplotlib.pyplot` and `seaborn`."
   ]
  },
  {
   "cell_type": "code",
   "execution_count": 35,
   "metadata": {},
   "outputs": [],
   "source": [
    "import seaborn as sns\n",
    "import matplotlib\n",
    "import matplotlib.pyplot as plt\n",
    "%matplotlib inline\n",
    "\n",
    "sns.set_style('darkgrid')\n",
    "matplotlib.rcParams['font.size'] = 14\n",
    "matplotlib.rcParams['figure.figsize'] = (9, 5)\n",
    "matplotlib.rcParams['figure.facecolor'] = '#00000000'"
   ]
  },
  {
   "cell_type": "code",
   "execution_count": 36,
   "metadata": {},
   "outputs": [
    {
     "data": {
      "text/html": [
       "<div>\n",
       "<style scoped>\n",
       "    .dataframe tbody tr th:only-of-type {\n",
       "        vertical-align: middle;\n",
       "    }\n",
       "\n",
       "    .dataframe tbody tr th {\n",
       "        vertical-align: top;\n",
       "    }\n",
       "\n",
       "    .dataframe thead th {\n",
       "        text-align: right;\n",
       "    }\n",
       "</style>\n",
       "<table border=\"1\" class=\"dataframe\">\n",
       "  <thead>\n",
       "    <tr style=\"text-align: right;\">\n",
       "      <th></th>\n",
       "      <th>hotstar_id</th>\n",
       "      <th>year</th>\n",
       "      <th>running_time</th>\n",
       "      <th>seasons</th>\n",
       "      <th>episodes</th>\n",
       "    </tr>\n",
       "  </thead>\n",
       "  <tbody>\n",
       "    <tr>\n",
       "      <th>count</th>\n",
       "      <td>6.652000e+03</td>\n",
       "      <td>6652.000000</td>\n",
       "      <td>6652.000000</td>\n",
       "      <td>6652.000000</td>\n",
       "      <td>6652.000000</td>\n",
       "    </tr>\n",
       "    <tr>\n",
       "      <th>mean</th>\n",
       "      <td>1.051591e+09</td>\n",
       "      <td>2011.317498</td>\n",
       "      <td>67.244738</td>\n",
       "      <td>0.908449</td>\n",
       "      <td>42.525857</td>\n",
       "    </tr>\n",
       "    <tr>\n",
       "      <th>std</th>\n",
       "      <td>4.876392e+08</td>\n",
       "      <td>11.990044</td>\n",
       "      <td>61.767364</td>\n",
       "      <td>3.172892</td>\n",
       "      <td>159.706856</td>\n",
       "    </tr>\n",
       "    <tr>\n",
       "      <th>min</th>\n",
       "      <td>3.000000e+00</td>\n",
       "      <td>1928.000000</td>\n",
       "      <td>0.000000</td>\n",
       "      <td>0.000000</td>\n",
       "      <td>0.000000</td>\n",
       "    </tr>\n",
       "    <tr>\n",
       "      <th>25%</th>\n",
       "      <td>1.000082e+09</td>\n",
       "      <td>2008.000000</td>\n",
       "      <td>0.000000</td>\n",
       "      <td>0.000000</td>\n",
       "      <td>0.000000</td>\n",
       "    </tr>\n",
       "    <tr>\n",
       "      <th>50%</th>\n",
       "      <td>1.260004e+09</td>\n",
       "      <td>2016.000000</td>\n",
       "      <td>79.000000</td>\n",
       "      <td>0.000000</td>\n",
       "      <td>0.000000</td>\n",
       "    </tr>\n",
       "    <tr>\n",
       "      <th>75%</th>\n",
       "      <td>1.260075e+09</td>\n",
       "      <td>2019.000000</td>\n",
       "      <td>128.000000</td>\n",
       "      <td>1.000000</td>\n",
       "      <td>6.000000</td>\n",
       "    </tr>\n",
       "    <tr>\n",
       "      <th>max</th>\n",
       "      <td>1.837059e+09</td>\n",
       "      <td>2022.000000</td>\n",
       "      <td>226.000000</td>\n",
       "      <td>73.000000</td>\n",
       "      <td>3871.000000</td>\n",
       "    </tr>\n",
       "  </tbody>\n",
       "</table>\n",
       "</div>"
      ],
      "text/plain": [
       "         hotstar_id         year  running_time      seasons     episodes\n",
       "count  6.652000e+03  6652.000000   6652.000000  6652.000000  6652.000000\n",
       "mean   1.051591e+09  2011.317498     67.244738     0.908449    42.525857\n",
       "std    4.876392e+08    11.990044     61.767364     3.172892   159.706856\n",
       "min    3.000000e+00  1928.000000      0.000000     0.000000     0.000000\n",
       "25%    1.000082e+09  2008.000000      0.000000     0.000000     0.000000\n",
       "50%    1.260004e+09  2016.000000     79.000000     0.000000     0.000000\n",
       "75%    1.260075e+09  2019.000000    128.000000     1.000000     6.000000\n",
       "max    1.837059e+09  2022.000000    226.000000    73.000000  3871.000000"
      ]
     },
     "execution_count": 36,
     "metadata": {},
     "output_type": "execute_result"
    }
   ],
   "source": [
    "hotstar_new_df.describe()"
   ]
  },
  {
   "cell_type": "markdown",
   "metadata": {},
   "source": [
    "**1.--   Number of Movie and TV shows**\n",
    "\n",
    "Let's see the number of Movies and TV Shows on Hotstar through Bar plot Which Give us more Insight that how many Movies and how many TV shows are on hotstar"
   ]
  },
  {
   "cell_type": "code",
   "execution_count": 37,
   "metadata": {},
   "outputs": [
    {
     "data": {
      "text/plain": [
       "movie    4419\n",
       "tv       2233\n",
       "Name: type, dtype: int64"
      ]
     },
     "execution_count": 37,
     "metadata": {},
     "output_type": "execute_result"
    }
   ],
   "source": [
    "count = hotstar_new_df.type.value_counts()\n",
    "count"
   ]
  },
  {
   "cell_type": "code",
   "execution_count": 38,
   "metadata": {},
   "outputs": [
    {
     "data": {
      "image/png": "[encoded data removed]",
      "text/plain": [
       "<Figure size 648x360 with 1 Axes>"
      ]
     },
     "metadata": {
      "needs_background": "light"
     },
     "output_type": "display_data"
    }
   ],
   "source": [
    "plt.title(\"Number of Movies and Tv Shows in Hotstar\")\n",
    "plt.ylabel(\"Number of Movies and Tv Shows\")\n",
    "plt.bar(count.index, count);"
   ]
  },
  {
   "cell_type": "markdown",
   "metadata": {},
   "source": [
    "Here more than 4000 are movies and more 2000 TV Shows are shown in bar plot."
   ]
  },
  {
   "cell_type": "code",
   "execution_count": 39,
   "metadata": {},
   "outputs": [
    {
     "data": {
      "image/png": "[encoded data removed]",
      "text/plain": [
       "<Figure size 648x360 with 1 Axes>"
      ]
     },
     "metadata": {},
     "output_type": "display_data"
    }
   ],
   "source": [
    "plt.title(\"Percentage of Movies and TV Shows in Hotstar\")\n",
    "plt.pie(count.values,labels=[\"Movies\",\"TV Shows\"],autopct=\"%1.1f%%\");\n",
    "#autopct enables you to display the percent value using Python string formatting"
   ]
  },
  {
   "cell_type": "markdown",
   "metadata": {},
   "source": [
    "66.4% are movie and 33.6% are TV shows in the dataset"
   ]
  },
  {
   "cell_type": "markdown",
   "metadata": {},
   "source": [
    "**2.-- Number of content added over the years**\n",
    "\n",
    "Let's see the Number of content uploaded over years on Hotstar through `seaborn` `countplot` "
   ]
  },
  {
   "cell_type": "code",
   "execution_count": 40,
   "metadata": {},
   "outputs": [],
   "source": [
    "movie_count = hotstar_new_df[hotstar_new_df['type'] == \"movie\"]\n",
    "tv_count = hotstar_new_df[hotstar_new_df['type'] == \"tv\"];"
   ]
  },
  {
   "cell_type": "code",
   "execution_count": 41,
   "metadata": {
    "scrolled": false
   },
   "outputs": [
    {
     "data": {
      "text/html": [
       "<div>\n",
       "<style scoped>\n",
       "    .dataframe tbody tr th:only-of-type {\n",
       "        vertical-align: middle;\n",
       "    }\n",
       "\n",
       "    .dataframe tbody tr th {\n",
       "        vertical-align: top;\n",
       "    }\n",
       "\n",
       "    .dataframe thead th {\n",
       "        text-align: right;\n",
       "    }\n",
       "</style>\n",
       "<table border=\"1\" class=\"dataframe\">\n",
       "  <thead>\n",
       "    <tr style=\"text-align: right;\">\n",
       "      <th></th>\n",
       "      <th>hotstar_id</th>\n",
       "      <th>title</th>\n",
       "      <th>genre</th>\n",
       "      <th>year</th>\n",
       "      <th>age_rating</th>\n",
       "      <th>running_time</th>\n",
       "      <th>seasons</th>\n",
       "      <th>episodes</th>\n",
       "      <th>type</th>\n",
       "    </tr>\n",
       "  </thead>\n",
       "  <tbody>\n",
       "    <tr>\n",
       "      <th>4419</th>\n",
       "      <td>8182</td>\n",
       "      <td>Bhakton Ki Bhakti Mein Shakti</td>\n",
       "      <td>Drama</td>\n",
       "      <td>2016</td>\n",
       "      <td>U/A 13+</td>\n",
       "      <td>0.0</td>\n",
       "      <td>1.0</td>\n",
       "      <td>30.0</td>\n",
       "      <td>tv</td>\n",
       "    </tr>\n",
       "    <tr>\n",
       "      <th>4420</th>\n",
       "      <td>3012</td>\n",
       "      <td>Ajith Best Moments</td>\n",
       "      <td>Reality</td>\n",
       "      <td>2015</td>\n",
       "      <td>U</td>\n",
       "      <td>0.0</td>\n",
       "      <td>1.0</td>\n",
       "      <td>1.0</td>\n",
       "      <td>tv</td>\n",
       "    </tr>\n",
       "    <tr>\n",
       "      <th>4421</th>\n",
       "      <td>11</td>\n",
       "      <td>Saraswatichandra</td>\n",
       "      <td>Romance</td>\n",
       "      <td>2013</td>\n",
       "      <td>U/A 13+</td>\n",
       "      <td>0.0</td>\n",
       "      <td>15.0</td>\n",
       "      <td>444.0</td>\n",
       "      <td>tv</td>\n",
       "    </tr>\n",
       "    <tr>\n",
       "      <th>4422</th>\n",
       "      <td>1260065351</td>\n",
       "      <td>Turner &amp; Hooch</td>\n",
       "      <td>Comedy</td>\n",
       "      <td>2021</td>\n",
       "      <td>U/A 7+</td>\n",
       "      <td>0.0</td>\n",
       "      <td>1.0</td>\n",
       "      <td>12.0</td>\n",
       "      <td>tv</td>\n",
       "    </tr>\n",
       "    <tr>\n",
       "      <th>4423</th>\n",
       "      <td>13874</td>\n",
       "      <td>Mouna Raagam 2</td>\n",
       "      <td>Drama</td>\n",
       "      <td>2017</td>\n",
       "      <td>U/A 13+</td>\n",
       "      <td>0.0</td>\n",
       "      <td>2.0</td>\n",
       "      <td>1278.0</td>\n",
       "      <td>tv</td>\n",
       "    </tr>\n",
       "    <tr>\n",
       "      <th>...</th>\n",
       "      <td>...</td>\n",
       "      <td>...</td>\n",
       "      <td>...</td>\n",
       "      <td>...</td>\n",
       "      <td>...</td>\n",
       "      <td>...</td>\n",
       "      <td>...</td>\n",
       "      <td>...</td>\n",
       "      <td>...</td>\n",
       "    </tr>\n",
       "    <tr>\n",
       "      <th>6647</th>\n",
       "      <td>1260003841</td>\n",
       "      <td>Anandyatree</td>\n",
       "      <td>Concert Film</td>\n",
       "      <td>2019</td>\n",
       "      <td>U</td>\n",
       "      <td>0.0</td>\n",
       "      <td>1.0</td>\n",
       "      <td>5.0</td>\n",
       "      <td>tv</td>\n",
       "    </tr>\n",
       "    <tr>\n",
       "      <th>6648</th>\n",
       "      <td>1260108360</td>\n",
       "      <td>Cook Like a Chef</td>\n",
       "      <td>Food</td>\n",
       "      <td>2001</td>\n",
       "      <td>U/A 16+</td>\n",
       "      <td>0.0</td>\n",
       "      <td>1.0</td>\n",
       "      <td>39.0</td>\n",
       "      <td>tv</td>\n",
       "    </tr>\n",
       "    <tr>\n",
       "      <th>6649</th>\n",
       "      <td>1260067695</td>\n",
       "      <td>Star Kids - Daddy Daddy O My Daddy</td>\n",
       "      <td>Reality</td>\n",
       "      <td>2021</td>\n",
       "      <td>U/A 13+</td>\n",
       "      <td>0.0</td>\n",
       "      <td>1.0</td>\n",
       "      <td>1.0</td>\n",
       "      <td>tv</td>\n",
       "    </tr>\n",
       "    <tr>\n",
       "      <th>6650</th>\n",
       "      <td>1260025773</td>\n",
       "      <td>Disney's Recess</td>\n",
       "      <td>Comedy</td>\n",
       "      <td>1997</td>\n",
       "      <td>U</td>\n",
       "      <td>0.0</td>\n",
       "      <td>3.0</td>\n",
       "      <td>65.0</td>\n",
       "      <td>tv</td>\n",
       "    </tr>\n",
       "    <tr>\n",
       "      <th>6651</th>\n",
       "      <td>1260001799</td>\n",
       "      <td>Ind vs WI 2018 Countdown Tamil</td>\n",
       "      <td>Sport</td>\n",
       "      <td>2018</td>\n",
       "      <td>U</td>\n",
       "      <td>0.0</td>\n",
       "      <td>1.0</td>\n",
       "      <td>2.0</td>\n",
       "      <td>tv</td>\n",
       "    </tr>\n",
       "  </tbody>\n",
       "</table>\n",
       "<p>2233 rows × 9 columns</p>\n",
       "</div>"
      ],
      "text/plain": [
       "      hotstar_id                               title         genre  year  \\\n",
       "4419        8182       Bhakton Ki Bhakti Mein Shakti         Drama  2016   \n",
       "4420        3012                  Ajith Best Moments       Reality  2015   \n",
       "4421          11                    Saraswatichandra       Romance  2013   \n",
       "4422  1260065351                      Turner & Hooch        Comedy  2021   \n",
       "4423       13874                      Mouna Raagam 2         Drama  2017   \n",
       "...          ...                                 ...           ...   ...   \n",
       "6647  1260003841                         Anandyatree  Concert Film  2019   \n",
       "6648  1260108360                    Cook Like a Chef          Food  2001   \n",
       "6649  1260067695  Star Kids - Daddy Daddy O My Daddy       Reality  2021   \n",
       "6650  1260025773                     Disney's Recess        Comedy  1997   \n",
       "6651  1260001799      Ind vs WI 2018 Countdown Tamil         Sport  2018   \n",
       "\n",
       "     age_rating  running_time  seasons  episodes type  \n",
       "4419    U/A 13+           0.0      1.0      30.0   tv  \n",
       "4420          U           0.0      1.0       1.0   tv  \n",
       "4421    U/A 13+           0.0     15.0     444.0   tv  \n",
       "4422     U/A 7+           0.0      1.0      12.0   tv  \n",
       "4423    U/A 13+           0.0      2.0    1278.0   tv  \n",
       "...         ...           ...      ...       ...  ...  \n",
       "6647          U           0.0      1.0       5.0   tv  \n",
       "6648    U/A 16+           0.0      1.0      39.0   tv  \n",
       "6649    U/A 13+           0.0      1.0       1.0   tv  \n",
       "6650          U           0.0      3.0      65.0   tv  \n",
       "6651          U           0.0      1.0       2.0   tv  \n",
       "\n",
       "[2233 rows x 9 columns]"
      ]
     },
     "execution_count": 41,
     "metadata": {},
     "output_type": "execute_result"
    }
   ],
   "source": [
    "tv_count"
   ]
  },
  {
   "cell_type": "markdown",
   "metadata": {},
   "source": [
    "Here we found 2233 TV shows in the dataset"
   ]
  },
  {
   "cell_type": "code",
   "execution_count": 42,
   "metadata": {},
   "outputs": [
    {
     "data": {
      "text/html": [
       "<div>\n",
       "<style scoped>\n",
       "    .dataframe tbody tr th:only-of-type {\n",
       "        vertical-align: middle;\n",
       "    }\n",
       "\n",
       "    .dataframe tbody tr th {\n",
       "        vertical-align: top;\n",
       "    }\n",
       "\n",
       "    .dataframe thead th {\n",
       "        text-align: right;\n",
       "    }\n",
       "</style>\n",
       "<table border=\"1\" class=\"dataframe\">\n",
       "  <thead>\n",
       "    <tr style=\"text-align: right;\">\n",
       "      <th></th>\n",
       "      <th>hotstar_id</th>\n",
       "      <th>title</th>\n",
       "      <th>genre</th>\n",
       "      <th>year</th>\n",
       "      <th>age_rating</th>\n",
       "      <th>running_time</th>\n",
       "      <th>seasons</th>\n",
       "      <th>episodes</th>\n",
       "      <th>type</th>\n",
       "    </tr>\n",
       "  </thead>\n",
       "  <tbody>\n",
       "    <tr>\n",
       "      <th>0</th>\n",
       "      <td>1000232077</td>\n",
       "      <td>Ram Gopal Varma ki Aag</td>\n",
       "      <td>Action</td>\n",
       "      <td>2007</td>\n",
       "      <td>U/A 13+</td>\n",
       "      <td>152.0</td>\n",
       "      <td>0.0</td>\n",
       "      <td>0.0</td>\n",
       "      <td>movie</td>\n",
       "    </tr>\n",
       "    <tr>\n",
       "      <th>1</th>\n",
       "      <td>1000164652</td>\n",
       "      <td>Niyogam</td>\n",
       "      <td>Drama</td>\n",
       "      <td>1997</td>\n",
       "      <td>U/A 13+</td>\n",
       "      <td>101.0</td>\n",
       "      <td>0.0</td>\n",
       "      <td>0.0</td>\n",
       "      <td>movie</td>\n",
       "    </tr>\n",
       "    <tr>\n",
       "      <th>2</th>\n",
       "      <td>1000105823</td>\n",
       "      <td>Injakkadan Mathai &amp; Sons</td>\n",
       "      <td>Action</td>\n",
       "      <td>1993</td>\n",
       "      <td>U/A 7+</td>\n",
       "      <td>122.0</td>\n",
       "      <td>0.0</td>\n",
       "      <td>0.0</td>\n",
       "      <td>movie</td>\n",
       "    </tr>\n",
       "    <tr>\n",
       "      <th>3</th>\n",
       "      <td>1000163530</td>\n",
       "      <td>Viyarppinte Vila</td>\n",
       "      <td>Drama</td>\n",
       "      <td>1962</td>\n",
       "      <td>U</td>\n",
       "      <td>149.0</td>\n",
       "      <td>0.0</td>\n",
       "      <td>0.0</td>\n",
       "      <td>movie</td>\n",
       "    </tr>\n",
       "    <tr>\n",
       "      <th>4</th>\n",
       "      <td>1820041764</td>\n",
       "      <td>Ek Mulaqat</td>\n",
       "      <td>Romance</td>\n",
       "      <td>2019</td>\n",
       "      <td>U</td>\n",
       "      <td>7.0</td>\n",
       "      <td>0.0</td>\n",
       "      <td>0.0</td>\n",
       "      <td>movie</td>\n",
       "    </tr>\n",
       "    <tr>\n",
       "      <th>...</th>\n",
       "      <td>...</td>\n",
       "      <td>...</td>\n",
       "      <td>...</td>\n",
       "      <td>...</td>\n",
       "      <td>...</td>\n",
       "      <td>...</td>\n",
       "      <td>...</td>\n",
       "      <td>...</td>\n",
       "      <td>...</td>\n",
       "    </tr>\n",
       "    <tr>\n",
       "      <th>4414</th>\n",
       "      <td>1000098596</td>\n",
       "      <td>Ningi Nela Naade</td>\n",
       "      <td>Drama</td>\n",
       "      <td>2009</td>\n",
       "      <td>U/A 13+</td>\n",
       "      <td>88.0</td>\n",
       "      <td>0.0</td>\n",
       "      <td>0.0</td>\n",
       "      <td>movie</td>\n",
       "    </tr>\n",
       "    <tr>\n",
       "      <th>4415</th>\n",
       "      <td>1000104631</td>\n",
       "      <td>Ishq</td>\n",
       "      <td>Comedy</td>\n",
       "      <td>1997</td>\n",
       "      <td>U/A 13+</td>\n",
       "      <td>156.0</td>\n",
       "      <td>0.0</td>\n",
       "      <td>0.0</td>\n",
       "      <td>movie</td>\n",
       "    </tr>\n",
       "    <tr>\n",
       "      <th>4416</th>\n",
       "      <td>1770002602</td>\n",
       "      <td>Bouman Banbas</td>\n",
       "      <td>Drama</td>\n",
       "      <td>1998</td>\n",
       "      <td>U/A 7+</td>\n",
       "      <td>161.0</td>\n",
       "      <td>0.0</td>\n",
       "      <td>0.0</td>\n",
       "      <td>movie</td>\n",
       "    </tr>\n",
       "    <tr>\n",
       "      <th>4417</th>\n",
       "      <td>1770021193</td>\n",
       "      <td>Will Ferrell: You're Welcome America. A Final ...</td>\n",
       "      <td>Standup Comedy</td>\n",
       "      <td>2018</td>\n",
       "      <td>A</td>\n",
       "      <td>91.0</td>\n",
       "      <td>0.0</td>\n",
       "      <td>0.0</td>\n",
       "      <td>movie</td>\n",
       "    </tr>\n",
       "    <tr>\n",
       "      <th>4418</th>\n",
       "      <td>1000230679</td>\n",
       "      <td>Yuntum</td>\n",
       "      <td>Romance</td>\n",
       "      <td>2018</td>\n",
       "      <td>U/A 13+</td>\n",
       "      <td>137.0</td>\n",
       "      <td>0.0</td>\n",
       "      <td>0.0</td>\n",
       "      <td>movie</td>\n",
       "    </tr>\n",
       "  </tbody>\n",
       "</table>\n",
       "<p>4419 rows × 9 columns</p>\n",
       "</div>"
      ],
      "text/plain": [
       "      hotstar_id                                              title  \\\n",
       "0     1000232077                             Ram Gopal Varma ki Aag   \n",
       "1     1000164652                                            Niyogam   \n",
       "2     1000105823                           Injakkadan Mathai & Sons   \n",
       "3     1000163530                                   Viyarppinte Vila   \n",
       "4     1820041764                                         Ek Mulaqat   \n",
       "...          ...                                                ...   \n",
       "4414  1000098596                                   Ningi Nela Naade   \n",
       "4415  1000104631                                               Ishq   \n",
       "4416  1770002602                                      Bouman Banbas   \n",
       "4417  1770021193  Will Ferrell: You're Welcome America. A Final ...   \n",
       "4418  1000230679                                             Yuntum   \n",
       "\n",
       "               genre  year age_rating  running_time  seasons  episodes   type  \n",
       "0             Action  2007    U/A 13+         152.0      0.0       0.0  movie  \n",
       "1              Drama  1997    U/A 13+         101.0      0.0       0.0  movie  \n",
       "2             Action  1993     U/A 7+         122.0      0.0       0.0  movie  \n",
       "3              Drama  1962          U         149.0      0.0       0.0  movie  \n",
       "4            Romance  2019          U           7.0      0.0       0.0  movie  \n",
       "...              ...   ...        ...           ...      ...       ...    ...  \n",
       "4414           Drama  2009    U/A 13+          88.0      0.0       0.0  movie  \n",
       "4415          Comedy  1997    U/A 13+         156.0      0.0       0.0  movie  \n",
       "4416           Drama  1998     U/A 7+         161.0      0.0       0.0  movie  \n",
       "4417  Standup Comedy  2018          A          91.0      0.0       0.0  movie  \n",
       "4418         Romance  2018    U/A 13+         137.0      0.0       0.0  movie  \n",
       "\n",
       "[4419 rows x 9 columns]"
      ]
     },
     "execution_count": 42,
     "metadata": {},
     "output_type": "execute_result"
    }
   ],
   "source": [
    "movie_count"
   ]
  },
  {
   "cell_type": "markdown",
   "metadata": {},
   "source": [
    "Here we found 4418 movies in the dataset"
   ]
  },
  {
   "cell_type": "code",
   "execution_count": 43,
   "metadata": {},
   "outputs": [],
   "source": [
    "movie_count = movie_count.year.value_counts();\n",
    "tv_count = tv_count.year.value_counts();"
   ]
  },
  {
   "cell_type": "code",
   "execution_count": 44,
   "metadata": {},
   "outputs": [
    {
     "data": {
      "image/png": "[encoded data removed]",
      "text/plain": [
       "<Figure size 648x360 with 1 Axes>"
      ]
     },
     "metadata": {
      "needs_background": "light"
     },
     "output_type": "display_data"
    }
   ],
   "source": [
    "plt.title(\"Number of Content added Over Years\")\n",
    "plt.xlabel(\"Year\")\n",
    "plt.ylabel(\"Number movies/TV show added\")\n",
    "sns.lineplot(x=movie_count.index ,y= movie_count.values)\n",
    "sns.lineplot(x=tv_count.index ,y= tv_count.values);"
   ]
  },
  {
   "cell_type": "markdown",
   "metadata": {},
   "source": [
    "**3. -- Age rating**\n",
    "\n",
    "Now we are going to see the Number content according to Age Rating."
   ]
  },
  {
   "cell_type": "code",
   "execution_count": 45,
   "metadata": {
    "scrolled": true
   },
   "outputs": [
    {
     "data": {
      "text/plain": [
       "U/A 13+    2856\n",
       "U          1253\n",
       "U/A 16+    1134\n",
       "U/A 7+     1098\n",
       "A           310\n",
       "G             1\n",
       "Name: age_rating, dtype: int64"
      ]
     },
     "execution_count": 45,
     "metadata": {},
     "output_type": "execute_result"
    }
   ],
   "source": [
    "a = hotstar_new_df.age_rating.value_counts()\n",
    "a"
   ]
  },
  {
   "cell_type": "markdown",
   "metadata": {},
   "source": [
    "We found 7 common age rating from the dataset"
   ]
  },
  {
   "cell_type": "code",
   "execution_count": 46,
   "metadata": {},
   "outputs": [
    {
     "data": {
      "image/png": "[encoded data removed]",
      "text/plain": [
       "<Figure size 864x360 with 1 Axes>"
      ]
     },
     "metadata": {
      "needs_background": "light"
     },
     "output_type": "display_data"
    }
   ],
   "source": [
    "plt.figure(figsize=(12,5))\n",
    "plt.title(\"Number of Content according to Age Rating\")#Plotting the values obtained above\n",
    "sns.countplot(x=hotstar_df['age_rating'],hue=hotstar_df['type']);"
   ]
  },
  {
   "cell_type": "markdown",
   "metadata": {},
   "source": [
    "In `U/A 13+` - around 1750 are Movies and around 1100 are TV Shows\n",
    "\n",
    "In `U/A 13+` - around 750 are Movies and around 300 are TV Shows\n",
    "\n",
    "In `U/A 13+` - around 850 are Movies and around 350 are TV Shows\n",
    "\n",
    "In `U/A 13+` - both Movies and TV Shows are around 150\n",
    "\n",
    "In `U/A 13+` - around 900 are Movies and around very less than 250 are TV Shows"
   ]
  },
  {
   "cell_type": "markdown",
   "metadata": {},
   "source": [
    "**4. - Longest Movies**\n",
    "\n",
    "let's see the top 10 Longest Movies on Hotstar."
   ]
  },
  {
   "cell_type": "code",
   "execution_count": 61,
   "metadata": {},
   "outputs": [],
   "source": [
    "maximum = hotstar_new_df.nlargest(10, ['running_time'])"
   ]
  },
  {
   "cell_type": "code",
   "execution_count": 62,
   "metadata": {},
   "outputs": [
    {
     "data": {
      "text/html": [
       "<div>\n",
       "<style scoped>\n",
       "    .dataframe tbody tr th:only-of-type {\n",
       "        vertical-align: middle;\n",
       "    }\n",
       "\n",
       "    .dataframe tbody tr th {\n",
       "        vertical-align: top;\n",
       "    }\n",
       "\n",
       "    .dataframe thead th {\n",
       "        text-align: right;\n",
       "    }\n",
       "</style>\n",
       "<table border=\"1\" class=\"dataframe\">\n",
       "  <thead>\n",
       "    <tr style=\"text-align: right;\">\n",
       "      <th></th>\n",
       "      <th>hotstar_id</th>\n",
       "      <th>title</th>\n",
       "      <th>genre</th>\n",
       "      <th>year</th>\n",
       "      <th>age_rating</th>\n",
       "      <th>running_time</th>\n",
       "      <th>seasons</th>\n",
       "      <th>episodes</th>\n",
       "      <th>type</th>\n",
       "    </tr>\n",
       "  </thead>\n",
       "  <tbody>\n",
       "    <tr>\n",
       "      <th>1233</th>\n",
       "      <td>1260117918</td>\n",
       "      <td>Daana Veera Soora Karna</td>\n",
       "      <td>Fantasy</td>\n",
       "      <td>1977</td>\n",
       "      <td>U</td>\n",
       "      <td>226.0</td>\n",
       "      <td>0.0</td>\n",
       "      <td>0.0</td>\n",
       "      <td>movie</td>\n",
       "    </tr>\n",
       "    <tr>\n",
       "      <th>3173</th>\n",
       "      <td>1000108860</td>\n",
       "      <td>Dubai</td>\n",
       "      <td>Thriller</td>\n",
       "      <td>2001</td>\n",
       "      <td>U/A 16+</td>\n",
       "      <td>199.0</td>\n",
       "      <td>0.0</td>\n",
       "      <td>0.0</td>\n",
       "      <td>movie</td>\n",
       "    </tr>\n",
       "    <tr>\n",
       "      <th>539</th>\n",
       "      <td>1770001166</td>\n",
       "      <td>Titanic</td>\n",
       "      <td>Historical</td>\n",
       "      <td>1997</td>\n",
       "      <td>U/A 13+</td>\n",
       "      <td>194.0</td>\n",
       "      <td>0.0</td>\n",
       "      <td>0.0</td>\n",
       "      <td>movie</td>\n",
       "    </tr>\n",
       "    <tr>\n",
       "      <th>427</th>\n",
       "      <td>1000101168</td>\n",
       "      <td>Kerala Varma Pazhassiraja</td>\n",
       "      <td>Action</td>\n",
       "      <td>2009</td>\n",
       "      <td>U/A 13+</td>\n",
       "      <td>190.0</td>\n",
       "      <td>0.0</td>\n",
       "      <td>0.0</td>\n",
       "      <td>movie</td>\n",
       "    </tr>\n",
       "    <tr>\n",
       "      <th>2857</th>\n",
       "      <td>1260096368</td>\n",
       "      <td>The 2021 Rock &amp; Roll Hall of Fame Induction Ce...</td>\n",
       "      <td>Musical</td>\n",
       "      <td>2021</td>\n",
       "      <td>U/A 16+</td>\n",
       "      <td>188.0</td>\n",
       "      <td>0.0</td>\n",
       "      <td>0.0</td>\n",
       "      <td>movie</td>\n",
       "    </tr>\n",
       "    <tr>\n",
       "      <th>2832</th>\n",
       "      <td>1260117075</td>\n",
       "      <td>Lajja</td>\n",
       "      <td>Drama</td>\n",
       "      <td>2001</td>\n",
       "      <td>U/A 16+</td>\n",
       "      <td>186.0</td>\n",
       "      <td>0.0</td>\n",
       "      <td>0.0</td>\n",
       "      <td>movie</td>\n",
       "    </tr>\n",
       "    <tr>\n",
       "      <th>2706</th>\n",
       "      <td>1000064726</td>\n",
       "      <td>Mallannaa</td>\n",
       "      <td>Drama</td>\n",
       "      <td>2009</td>\n",
       "      <td>U/A 13+</td>\n",
       "      <td>183.0</td>\n",
       "      <td>0.0</td>\n",
       "      <td>0.0</td>\n",
       "      <td>movie</td>\n",
       "    </tr>\n",
       "    <tr>\n",
       "      <th>432</th>\n",
       "      <td>1000192007</td>\n",
       "      <td>Nayak</td>\n",
       "      <td>Drama</td>\n",
       "      <td>2001</td>\n",
       "      <td>U/A 13+</td>\n",
       "      <td>182.0</td>\n",
       "      <td>0.0</td>\n",
       "      <td>0.0</td>\n",
       "      <td>movie</td>\n",
       "    </tr>\n",
       "    <tr>\n",
       "      <th>2661</th>\n",
       "      <td>1000036276</td>\n",
       "      <td>The King &amp; The Commissioner</td>\n",
       "      <td>Action</td>\n",
       "      <td>2011</td>\n",
       "      <td>U/A 16+</td>\n",
       "      <td>182.0</td>\n",
       "      <td>0.0</td>\n",
       "      <td>0.0</td>\n",
       "      <td>movie</td>\n",
       "    </tr>\n",
       "    <tr>\n",
       "      <th>2748</th>\n",
       "      <td>1000101218</td>\n",
       "      <td>23rd March 1931 Shaheed</td>\n",
       "      <td>Drama</td>\n",
       "      <td>2002</td>\n",
       "      <td>U</td>\n",
       "      <td>182.0</td>\n",
       "      <td>0.0</td>\n",
       "      <td>0.0</td>\n",
       "      <td>movie</td>\n",
       "    </tr>\n",
       "  </tbody>\n",
       "</table>\n",
       "</div>"
      ],
      "text/plain": [
       "      hotstar_id                                              title  \\\n",
       "1233  1260117918                            Daana Veera Soora Karna   \n",
       "3173  1000108860                                              Dubai   \n",
       "539   1770001166                                            Titanic   \n",
       "427   1000101168                          Kerala Varma Pazhassiraja   \n",
       "2857  1260096368  The 2021 Rock & Roll Hall of Fame Induction Ce...   \n",
       "2832  1260117075                                              Lajja   \n",
       "2706  1000064726                                          Mallannaa   \n",
       "432   1000192007                                              Nayak   \n",
       "2661  1000036276                        The King & The Commissioner   \n",
       "2748  1000101218                            23rd March 1931 Shaheed   \n",
       "\n",
       "           genre  year age_rating  running_time  seasons  episodes   type  \n",
       "1233     Fantasy  1977          U         226.0      0.0       0.0  movie  \n",
       "3173    Thriller  2001    U/A 16+         199.0      0.0       0.0  movie  \n",
       "539   Historical  1997    U/A 13+         194.0      0.0       0.0  movie  \n",
       "427       Action  2009    U/A 13+         190.0      0.0       0.0  movie  \n",
       "2857     Musical  2021    U/A 16+         188.0      0.0       0.0  movie  \n",
       "2832       Drama  2001    U/A 16+         186.0      0.0       0.0  movie  \n",
       "2706       Drama  2009    U/A 13+         183.0      0.0       0.0  movie  \n",
       "432        Drama  2001    U/A 13+         182.0      0.0       0.0  movie  \n",
       "2661      Action  2011    U/A 16+         182.0      0.0       0.0  movie  \n",
       "2748       Drama  2002          U         182.0      0.0       0.0  movie  "
      ]
     },
     "execution_count": 62,
     "metadata": {},
     "output_type": "execute_result"
    }
   ],
   "source": [
    "maximum\n"
   ]
  },
  {
   "cell_type": "code",
   "execution_count": 63,
   "metadata": {},
   "outputs": [],
   "source": [
    "maximum.set_index('running_time',inplace=True)\n"
   ]
  },
  {
   "cell_type": "code",
   "execution_count": 64,
   "metadata": {
    "scrolled": true
   },
   "outputs": [
    {
     "data": {
      "image/png": "[encoded data removed]",
      "text/plain": [
       "<Figure size 648x360 with 1 Axes>"
      ]
     },
     "metadata": {},
     "output_type": "display_data"
    }
   ],
   "source": [
    "sns.set_style(\"whitegrid\")\n",
    "plt.title(\"Top 10 Longest Movie\")\n",
    "sns.barplot(x=maximum.index,y=maximum.title)\n",
    "plt.xlabel(\"Duration(in minutes)\");\n",
    "plt.ylabel(\"Movie\");"
   ]
  },
  {
   "cell_type": "markdown",
   "metadata": {},
   "source": [
    "In the upper visualization we found that `Daana Veera Soora Karna` is the Longest Movie on Hotstar and `Dubai` contains second position and `Titanic` contains third position in Longest movies list on Hotstar"
   ]
  },
  {
   "cell_type": "markdown",
   "metadata": {},
   "source": [
    "**5. - Episodes of Tv Shows**\n",
    "\n",
    "we are going to see Number Episodes of TV Shows on Hotstar"
   ]
  },
  {
   "cell_type": "code",
   "execution_count": 65,
   "metadata": {},
   "outputs": [
    {
     "data": {
      "text/html": [
       "<div>\n",
       "<style scoped>\n",
       "    .dataframe tbody tr th:only-of-type {\n",
       "        vertical-align: middle;\n",
       "    }\n",
       "\n",
       "    .dataframe tbody tr th {\n",
       "        vertical-align: top;\n",
       "    }\n",
       "\n",
       "    .dataframe thead th {\n",
       "        text-align: right;\n",
       "    }\n",
       "</style>\n",
       "<table border=\"1\" class=\"dataframe\">\n",
       "  <thead>\n",
       "    <tr style=\"text-align: right;\">\n",
       "      <th></th>\n",
       "      <th>hotstar_id</th>\n",
       "      <th>title</th>\n",
       "      <th>genre</th>\n",
       "      <th>year</th>\n",
       "      <th>age_rating</th>\n",
       "      <th>running_time</th>\n",
       "      <th>seasons</th>\n",
       "      <th>episodes</th>\n",
       "      <th>type</th>\n",
       "    </tr>\n",
       "  </thead>\n",
       "  <tbody>\n",
       "    <tr>\n",
       "      <th>5108</th>\n",
       "      <td>586</td>\n",
       "      <td>Yeh Rishta Kya Kehlata Hai</td>\n",
       "      <td>Drama</td>\n",
       "      <td>2009</td>\n",
       "      <td>U/A 13+</td>\n",
       "      <td>0.0</td>\n",
       "      <td>67.0</td>\n",
       "      <td>3871.0</td>\n",
       "      <td>tv</td>\n",
       "    </tr>\n",
       "    <tr>\n",
       "      <th>4841</th>\n",
       "      <td>693</td>\n",
       "      <td>Saath Nibhaana Saathiya 2</td>\n",
       "      <td>Family</td>\n",
       "      <td>2010</td>\n",
       "      <td>U/A 13+</td>\n",
       "      <td>0.0</td>\n",
       "      <td>3.0</td>\n",
       "      <td>2732.0</td>\n",
       "      <td>tv</td>\n",
       "    </tr>\n",
       "    <tr>\n",
       "      <th>4868</th>\n",
       "      <td>363</td>\n",
       "      <td>Savdhaan India</td>\n",
       "      <td>Crime</td>\n",
       "      <td>2012</td>\n",
       "      <td>U/A 16+</td>\n",
       "      <td>0.0</td>\n",
       "      <td>73.0</td>\n",
       "      <td>2348.0</td>\n",
       "      <td>tv</td>\n",
       "    </tr>\n",
       "    <tr>\n",
       "      <th>4896</th>\n",
       "      <td>960</td>\n",
       "      <td>Pudhcha Paaul</td>\n",
       "      <td>Family</td>\n",
       "      <td>2011</td>\n",
       "      <td>U/A 13+</td>\n",
       "      <td>0.0</td>\n",
       "      <td>45.0</td>\n",
       "      <td>1943.0</td>\n",
       "      <td>tv</td>\n",
       "    </tr>\n",
       "    <tr>\n",
       "      <th>6414</th>\n",
       "      <td>3</td>\n",
       "      <td>Yeh Hai Mohabbatein</td>\n",
       "      <td>Romance</td>\n",
       "      <td>2013</td>\n",
       "      <td>U/A 13+</td>\n",
       "      <td>0.0</td>\n",
       "      <td>43.0</td>\n",
       "      <td>1895.0</td>\n",
       "      <td>tv</td>\n",
       "    </tr>\n",
       "    <tr>\n",
       "      <th>6200</th>\n",
       "      <td>655</td>\n",
       "      <td>Kyunki Saas Bhi Kabhi Bahu Thi</td>\n",
       "      <td>Family</td>\n",
       "      <td>2000</td>\n",
       "      <td>U/A 13+</td>\n",
       "      <td>0.0</td>\n",
       "      <td>38.0</td>\n",
       "      <td>1833.0</td>\n",
       "      <td>tv</td>\n",
       "    </tr>\n",
       "    <tr>\n",
       "      <th>5360</th>\n",
       "      <td>1916</td>\n",
       "      <td>Amruthavarshini - 2012</td>\n",
       "      <td>Romance</td>\n",
       "      <td>2012</td>\n",
       "      <td>U/A 13+</td>\n",
       "      <td>0.0</td>\n",
       "      <td>43.0</td>\n",
       "      <td>1713.0</td>\n",
       "      <td>tv</td>\n",
       "    </tr>\n",
       "    <tr>\n",
       "      <th>5106</th>\n",
       "      <td>9901</td>\n",
       "      <td>Kumkuma Puvvu</td>\n",
       "      <td>Drama</td>\n",
       "      <td>2016</td>\n",
       "      <td>U/A 13+</td>\n",
       "      <td>0.0</td>\n",
       "      <td>8.0</td>\n",
       "      <td>1702.0</td>\n",
       "      <td>tv</td>\n",
       "    </tr>\n",
       "    <tr>\n",
       "      <th>4619</th>\n",
       "      <td>1586</td>\n",
       "      <td>Parasparam</td>\n",
       "      <td>Family</td>\n",
       "      <td>2013</td>\n",
       "      <td>U/A 13+</td>\n",
       "      <td>0.0</td>\n",
       "      <td>34.0</td>\n",
       "      <td>1524.0</td>\n",
       "      <td>tv</td>\n",
       "    </tr>\n",
       "    <tr>\n",
       "      <th>6119</th>\n",
       "      <td>9903</td>\n",
       "      <td>Ke Apon Ke Por</td>\n",
       "      <td>Family</td>\n",
       "      <td>2016</td>\n",
       "      <td>U/A 13+</td>\n",
       "      <td>0.0</td>\n",
       "      <td>11.0</td>\n",
       "      <td>1507.0</td>\n",
       "      <td>tv</td>\n",
       "    </tr>\n",
       "  </tbody>\n",
       "</table>\n",
       "</div>"
      ],
      "text/plain": [
       "      hotstar_id                           title    genre  year age_rating  \\\n",
       "5108         586      Yeh Rishta Kya Kehlata Hai    Drama  2009    U/A 13+   \n",
       "4841         693       Saath Nibhaana Saathiya 2   Family  2010    U/A 13+   \n",
       "4868         363                  Savdhaan India    Crime  2012    U/A 16+   \n",
       "4896         960                   Pudhcha Paaul   Family  2011    U/A 13+   \n",
       "6414           3             Yeh Hai Mohabbatein  Romance  2013    U/A 13+   \n",
       "6200         655  Kyunki Saas Bhi Kabhi Bahu Thi   Family  2000    U/A 13+   \n",
       "5360        1916          Amruthavarshini - 2012  Romance  2012    U/A 13+   \n",
       "5106        9901                   Kumkuma Puvvu    Drama  2016    U/A 13+   \n",
       "4619        1586                      Parasparam   Family  2013    U/A 13+   \n",
       "6119        9903                  Ke Apon Ke Por   Family  2016    U/A 13+   \n",
       "\n",
       "      running_time  seasons  episodes type  \n",
       "5108           0.0     67.0    3871.0   tv  \n",
       "4841           0.0      3.0    2732.0   tv  \n",
       "4868           0.0     73.0    2348.0   tv  \n",
       "4896           0.0     45.0    1943.0   tv  \n",
       "6414           0.0     43.0    1895.0   tv  \n",
       "6200           0.0     38.0    1833.0   tv  \n",
       "5360           0.0     43.0    1713.0   tv  \n",
       "5106           0.0      8.0    1702.0   tv  \n",
       "4619           0.0     34.0    1524.0   tv  \n",
       "6119           0.0     11.0    1507.0   tv  "
      ]
     },
     "execution_count": 65,
     "metadata": {},
     "output_type": "execute_result"
    }
   ],
   "source": [
    "maximum_2 = hotstar_new_df.nlargest(10, ['episodes'])\n",
    "maximum_2"
   ]
  },
  {
   "cell_type": "code",
   "execution_count": 66,
   "metadata": {},
   "outputs": [],
   "source": [
    "maximum_2.set_index('episodes',inplace=True)"
   ]
  },
  {
   "cell_type": "code",
   "execution_count": 67,
   "metadata": {},
   "outputs": [
    {
     "data": {
      "image/png": "[encoded data removed]",
      "text/plain": [
       "<Figure size 648x360 with 1 Axes>"
      ]
     },
     "metadata": {},
     "output_type": "display_data"
    }
   ],
   "source": [
    "sns.set_style(\"whitegrid\")\n",
    "plt.title(\"Top 10 TV Shows in number of Total Episode\")\n",
    "sns.barplot(x=maximum_2.index,y=maximum_2.title)\n",
    "plt.xlabel(\"Total episode\");\n",
    "plt.ylabel(\"TV Shows\");"
   ]
  },
  {
   "cell_type": "markdown",
   "metadata": {},
   "source": [
    "We found that `Yeh Rishta Kya Kehlata Hai` has the highest number of episodes "
   ]
  },
  {
   "cell_type": "markdown",
   "metadata": {},
   "source": [
    "Let us save and upload our work to Jovian before continuing"
   ]
  },
  {
   "cell_type": "code",
   "execution_count": 69,
   "metadata": {},
   "outputs": [],
   "source": [
    "import jovian"
   ]
  },
  {
   "cell_type": "code",
   "execution_count": 70,
   "metadata": {},
   "outputs": [
    {
     "data": {
      "application/javascript": [
       "window.require && require([\"base/js/namespace\"],function(Jupyter){Jupyter.notebook.save_checkpoint()})"
      ],
      "text/plain": [
       "<IPython.core.display.Javascript object>"
      ]
     },
     "metadata": {},
     "output_type": "display_data"
    },
    {
     "name": "stdout",
     "output_type": "stream",
     "text": [
      "[jovian] Updating notebook \"vinayakpandey372/hotstar-data-analysis\" on https://jovian.ai\u001b[0m\n",
      "[jovian] Committed successfully! https://jovian.ai/vinayakpandey372/hotstar-data-analysis\u001b[0m\n"
     ]
    },
    {
     "data": {
      "text/plain": [
       "'https://jovian.ai/vinayakpandey372/hotstar-data-analysis'"
      ]
     },
     "execution_count": 70,
     "metadata": {},
     "output_type": "execute_result"
    }
   ],
   "source": [
    "jovian.commit()"
   ]
  },
  {
   "cell_type": "markdown",
   "metadata": {},
   "source": [
    "## Asking and Answering Questions\n",
    "\n",
    "Let's Ask the Question from the datasets\n",
    "\n",
    "Now we are going to ask the right question which give us more information about the datasets.\n",
    "**Question**\n",
    "1. Which Tv SHows is Highest number of Seasons.\n",
    "2. Which Age Rating is Highest Number of Movie and TV Shows.\n",
    "3. Which is the highest Number of Movies according to Genre\n",
    "4. What is the percentage of Top 10 Tv Genre.\n",
    "5. How many content added on Hotstar in Last 10 years."
   ]
  },
  {
   "cell_type": "markdown",
   "metadata": {},
   "source": [
    "#### Q1: Which TV Shows contains Highest Number of seasons"
   ]
  },
  {
   "cell_type": "code",
   "execution_count": 60,
   "metadata": {},
   "outputs": [],
   "source": [
    "maximum_season = hotstar_new_df.nlargest(10, ['seasons'])"
   ]
  },
  {
   "cell_type": "code",
   "execution_count": 61,
   "metadata": {
    "scrolled": true
   },
   "outputs": [
    {
     "data": {
      "text/html": [
       "<div>\n",
       "<style scoped>\n",
       "    .dataframe tbody tr th:only-of-type {\n",
       "        vertical-align: middle;\n",
       "    }\n",
       "\n",
       "    .dataframe tbody tr th {\n",
       "        vertical-align: top;\n",
       "    }\n",
       "\n",
       "    .dataframe thead th {\n",
       "        text-align: right;\n",
       "    }\n",
       "</style>\n",
       "<table border=\"1\" class=\"dataframe\">\n",
       "  <thead>\n",
       "    <tr style=\"text-align: right;\">\n",
       "      <th></th>\n",
       "      <th>hotstar_id</th>\n",
       "      <th>title</th>\n",
       "      <th>genre</th>\n",
       "      <th>year</th>\n",
       "      <th>age_rating</th>\n",
       "      <th>running_time</th>\n",
       "      <th>seasons</th>\n",
       "      <th>episodes</th>\n",
       "      <th>type</th>\n",
       "    </tr>\n",
       "  </thead>\n",
       "  <tbody>\n",
       "    <tr>\n",
       "      <th>4868</th>\n",
       "      <td>363</td>\n",
       "      <td>Savdhaan India</td>\n",
       "      <td>Crime</td>\n",
       "      <td>2012</td>\n",
       "      <td>U/A 16+</td>\n",
       "      <td>0.0</td>\n",
       "      <td>73.0</td>\n",
       "      <td>2348.0</td>\n",
       "      <td>tv</td>\n",
       "    </tr>\n",
       "    <tr>\n",
       "      <th>5108</th>\n",
       "      <td>586</td>\n",
       "      <td>Yeh Rishta Kya Kehlata Hai</td>\n",
       "      <td>Drama</td>\n",
       "      <td>2009</td>\n",
       "      <td>U/A 13+</td>\n",
       "      <td>0.0</td>\n",
       "      <td>67.0</td>\n",
       "      <td>3871.0</td>\n",
       "      <td>tv</td>\n",
       "    </tr>\n",
       "    <tr>\n",
       "      <th>4966</th>\n",
       "      <td>1298</td>\n",
       "      <td>Lakshya</td>\n",
       "      <td>Crime</td>\n",
       "      <td>2011</td>\n",
       "      <td>U/A 13+</td>\n",
       "      <td>0.0</td>\n",
       "      <td>53.0</td>\n",
       "      <td>1226.0</td>\n",
       "      <td>tv</td>\n",
       "    </tr>\n",
       "    <tr>\n",
       "      <th>4896</th>\n",
       "      <td>960</td>\n",
       "      <td>Pudhcha Paaul</td>\n",
       "      <td>Family</td>\n",
       "      <td>2011</td>\n",
       "      <td>U/A 13+</td>\n",
       "      <td>0.0</td>\n",
       "      <td>45.0</td>\n",
       "      <td>1943.0</td>\n",
       "      <td>tv</td>\n",
       "    </tr>\n",
       "    <tr>\n",
       "      <th>5360</th>\n",
       "      <td>1916</td>\n",
       "      <td>Amruthavarshini - 2012</td>\n",
       "      <td>Romance</td>\n",
       "      <td>2012</td>\n",
       "      <td>U/A 13+</td>\n",
       "      <td>0.0</td>\n",
       "      <td>43.0</td>\n",
       "      <td>1713.0</td>\n",
       "      <td>tv</td>\n",
       "    </tr>\n",
       "    <tr>\n",
       "      <th>6414</th>\n",
       "      <td>3</td>\n",
       "      <td>Yeh Hai Mohabbatein</td>\n",
       "      <td>Romance</td>\n",
       "      <td>2013</td>\n",
       "      <td>U/A 13+</td>\n",
       "      <td>0.0</td>\n",
       "      <td>43.0</td>\n",
       "      <td>1895.0</td>\n",
       "      <td>tv</td>\n",
       "    </tr>\n",
       "    <tr>\n",
       "      <th>6200</th>\n",
       "      <td>655</td>\n",
       "      <td>Kyunki Saas Bhi Kabhi Bahu Thi</td>\n",
       "      <td>Family</td>\n",
       "      <td>2000</td>\n",
       "      <td>U/A 13+</td>\n",
       "      <td>0.0</td>\n",
       "      <td>38.0</td>\n",
       "      <td>1833.0</td>\n",
       "      <td>tv</td>\n",
       "    </tr>\n",
       "    <tr>\n",
       "      <th>5814</th>\n",
       "      <td>12</td>\n",
       "      <td>Devon Ke Dev... Mahadev</td>\n",
       "      <td>Mythology</td>\n",
       "      <td>2011</td>\n",
       "      <td>U/A 13+</td>\n",
       "      <td>0.0</td>\n",
       "      <td>36.0</td>\n",
       "      <td>820.0</td>\n",
       "      <td>tv</td>\n",
       "    </tr>\n",
       "    <tr>\n",
       "      <th>4812</th>\n",
       "      <td>119</td>\n",
       "      <td>Sadda Haq - My Life My Choice</td>\n",
       "      <td>Drama</td>\n",
       "      <td>2013</td>\n",
       "      <td>U/A 13+</td>\n",
       "      <td>0.0</td>\n",
       "      <td>35.0</td>\n",
       "      <td>676.0</td>\n",
       "      <td>tv</td>\n",
       "    </tr>\n",
       "    <tr>\n",
       "      <th>4619</th>\n",
       "      <td>1586</td>\n",
       "      <td>Parasparam</td>\n",
       "      <td>Family</td>\n",
       "      <td>2013</td>\n",
       "      <td>U/A 13+</td>\n",
       "      <td>0.0</td>\n",
       "      <td>34.0</td>\n",
       "      <td>1524.0</td>\n",
       "      <td>tv</td>\n",
       "    </tr>\n",
       "  </tbody>\n",
       "</table>\n",
       "</div>"
      ],
      "text/plain": [
       "      hotstar_id                           title      genre  year age_rating  \\\n",
       "4868         363                  Savdhaan India      Crime  2012    U/A 16+   \n",
       "5108         586      Yeh Rishta Kya Kehlata Hai      Drama  2009    U/A 13+   \n",
       "4966        1298                         Lakshya      Crime  2011    U/A 13+   \n",
       "4896         960                   Pudhcha Paaul     Family  2011    U/A 13+   \n",
       "5360        1916          Amruthavarshini - 2012    Romance  2012    U/A 13+   \n",
       "6414           3             Yeh Hai Mohabbatein    Romance  2013    U/A 13+   \n",
       "6200         655  Kyunki Saas Bhi Kabhi Bahu Thi     Family  2000    U/A 13+   \n",
       "5814          12         Devon Ke Dev... Mahadev  Mythology  2011    U/A 13+   \n",
       "4812         119   Sadda Haq - My Life My Choice      Drama  2013    U/A 13+   \n",
       "4619        1586                      Parasparam     Family  2013    U/A 13+   \n",
       "\n",
       "      running_time  seasons  episodes type  \n",
       "4868           0.0     73.0    2348.0   tv  \n",
       "5108           0.0     67.0    3871.0   tv  \n",
       "4966           0.0     53.0    1226.0   tv  \n",
       "4896           0.0     45.0    1943.0   tv  \n",
       "5360           0.0     43.0    1713.0   tv  \n",
       "6414           0.0     43.0    1895.0   tv  \n",
       "6200           0.0     38.0    1833.0   tv  \n",
       "5814           0.0     36.0     820.0   tv  \n",
       "4812           0.0     35.0     676.0   tv  \n",
       "4619           0.0     34.0    1524.0   tv  "
      ]
     },
     "execution_count": 61,
     "metadata": {},
     "output_type": "execute_result"
    }
   ],
   "source": [
    "maximum_season"
   ]
  },
  {
   "cell_type": "code",
   "execution_count": 63,
   "metadata": {},
   "outputs": [],
   "source": [
    "maximum_season.set_index('seasons',inplace=True)"
   ]
  },
  {
   "cell_type": "code",
   "execution_count": 66,
   "metadata": {},
   "outputs": [
    {
     "data": {
      "image/png": "[encoded data removed]",
      "text/plain": [
       "<Figure size 648x360 with 1 Axes>"
      ]
     },
     "metadata": {},
     "output_type": "display_data"
    }
   ],
   "source": [
    "sns.set_style(\"whitegrid\")\n",
    "plt.title(\"Top 10 Most Number of Season of TV Shows\")\n",
    "sns.barplot(x=maximum_season.index,y=maximum_season.title)\n",
    "plt.xlabel(\"Number of Episode\");\n",
    "plt.ylabel(\"TV Shows\");"
   ]
  },
  {
   "cell_type": "markdown",
   "metadata": {},
   "source": [
    "From dataset we found that `Savdhaan India` TV Shows has the highest Number of Seasons\n",
    "There are around 74 Seasons of `Savdhaan India`"
   ]
  },
  {
   "cell_type": "markdown",
   "metadata": {},
   "source": [
    "#### Q2: - Which Age Rating is Highest Number of Movie and TV Shows."
   ]
  },
  {
   "cell_type": "code",
   "execution_count": 68,
   "metadata": {},
   "outputs": [
    {
     "data": {
      "text/plain": [
       "array(['U/A 13+', 'U/A 7+', 'U', 'A', 'U/A 16+', 'G'], dtype=object)"
      ]
     },
     "execution_count": 68,
     "metadata": {},
     "output_type": "execute_result"
    }
   ],
   "source": [
    "hotstar_new_df.age_rating.unique()"
   ]
  },
  {
   "cell_type": "code",
   "execution_count": 58,
   "metadata": {},
   "outputs": [
    {
     "data": {
      "image/png": "[encoded data removed]",
      "text/plain": [
       "<Figure size 1080x720 with 1 Axes>"
      ]
     },
     "metadata": {
      "needs_background": "light"
     },
     "output_type": "display_data"
    }
   ],
   "source": [
    "plt.figure(figsize=(15,10))\n",
    "plt.title(\"Number of Movie and TV Shows according to Age Rating\")\n",
    "sns.countplot(x=hotstar_new_df['age_rating'],hue=hotstar_new_df['type']);"
   ]
  },
  {
   "cell_type": "markdown",
   "metadata": {},
   "source": [
    "Here from dataset we found that in `U/A 13+` genre contains Highest Number of Movies and TV Shows"
   ]
  },
  {
   "cell_type": "markdown",
   "metadata": {},
   "source": [
    "#### Q3: Which is the highest Number of Movies according to Genre"
   ]
  },
  {
   "cell_type": "code",
   "execution_count": 71,
   "metadata": {},
   "outputs": [
    {
     "data": {
      "text/plain": [
       "array(['Action', 'Drama', 'Romance', 'Historical', 'Comedy', 'Teen',\n",
       "       'Adventure', 'Mythology', 'Animation', 'Thriller', 'Horror',\n",
       "       'Superhero', 'Crime', 'Family', 'Mystery', 'Science',\n",
       "       'Animals & Nature', 'Documentary', 'Standup Comedy', 'Musical',\n",
       "       'Kids', 'Science Fiction', 'Biopic', 'Concert Film', 'Food',\n",
       "       'Sport', 'Fantasy', 'Shorts', 'Reality', 'Docudrama', 'Travel',\n",
       "       'Talk Show', 'Awards', 'Lifestyle', 'Kabaddi', 'Football'],\n",
       "      dtype=object)"
      ]
     },
     "execution_count": 71,
     "metadata": {},
     "output_type": "execute_result"
    }
   ],
   "source": [
    "hotstar_new_df.genre.unique()"
   ]
  },
  {
   "cell_type": "code",
   "execution_count": 57,
   "metadata": {},
   "outputs": [
    {
     "data": {
      "image/png": "[encoded data removed]",
      "text/plain": [
       "<Figure size 1080x720 with 1 Axes>"
      ]
     },
     "metadata": {
      "needs_background": "light"
     },
     "output_type": "display_data"
    }
   ],
   "source": [
    "plt.figure(figsize=(15,10))\n",
    "plt.title(\"Number of Movies according to Genre\")\n",
    "sns.countplot(y=hotstar_new_df['genre'],hue=hotstar_new_df['type']);"
   ]
  },
  {
   "cell_type": "markdown",
   "metadata": {},
   "source": [
    "Highest Number of Movies are in `Drama` genre. Around 1500 Movies are from `Drama` genre"
   ]
  },
  {
   "cell_type": "markdown",
   "metadata": {},
   "source": [
    "### Q4: What is the percentage of Top 10 Tv Genre."
   ]
  },
  {
   "cell_type": "code",
   "execution_count": 84,
   "metadata": {},
   "outputs": [
    {
     "data": {
      "image/png": "[encoded data removed]",
      "text/plain": [
       "<Figure size 648x360 with 1 Axes>"
      ]
     },
     "metadata": {},
     "output_type": "display_data"
    }
   ],
   "source": [
    "genre = hotstar_new_df['type']=='tv'\n",
    "kgf=hotstar_new_df[genre]\n",
    "\n",
    "genre_1=kgf['genre'].value_counts()[:10]\n",
    "genre_1=pd.DataFrame(genre_1)\n",
    "\n",
    "genre_1.reset_index(drop=False,inplace=True)\n",
    "count=genre_1['genre']\n",
    "labels=genre_1['index']\n",
    "\n",
    "plt.title(\"Top 10 TV Shows genres percentage\")\n",
    "plt.pie(count,labels=labels,autopct='%1.1f%%')\n",
    "plt.show()"
   ]
  },
  {
   "cell_type": "markdown",
   "metadata": {},
   "source": [
    "Here we visualized the Top 10 TV Shows genre as percentage"
   ]
  },
  {
   "cell_type": "markdown",
   "metadata": {},
   "source": [
    "#### Q5: How many content added on Hotstar in Last 10 years."
   ]
  },
  {
   "cell_type": "code",
   "execution_count": 51,
   "metadata": {},
   "outputs": [],
   "source": [
    "movie_count = hotstar_new_df.year.value_counts().head(10);\n",
    "tv_count = hotstar_new_df.year.value_counts().head(10);"
   ]
  },
  {
   "cell_type": "code",
   "execution_count": 53,
   "metadata": {},
   "outputs": [
    {
     "data": {
      "image/png": "[encoded data removed]",
      "text/plain": [
       "<Figure size 648x360 with 1 Axes>"
      ]
     },
     "metadata": {
      "needs_background": "light"
     },
     "output_type": "display_data"
    }
   ],
   "source": [
    "plt.title(\"Number of Content Added On Hotstar in Last 10 years\")\n",
    "plt.xlabel(\"Year\")\n",
    "plt.ylabel(\"Number movies/TV Show added\")\n",
    "sns.barplot(x=movie_count.index ,y= movie_count.values)\n",
    "sns.barplot(x=tv_count.index ,y= tv_count.values);"
   ]
  },
  {
   "cell_type": "markdown",
   "metadata": {},
   "source": [
    "Here we visualize the content added on Hotstar in past 10 years"
   ]
  },
  {
   "cell_type": "markdown",
   "metadata": {},
   "source": [
    "Let us save and upload our work to Jovian before continuing."
   ]
  },
  {
   "cell_type": "code",
   "execution_count": 59,
   "metadata": {},
   "outputs": [],
   "source": [
    "import jovian"
   ]
  },
  {
   "cell_type": "code",
   "execution_count": null,
   "metadata": {},
   "outputs": [
    {
     "data": {
      "application/javascript": [
       "window.require && require([\"base/js/namespace\"],function(Jupyter){Jupyter.notebook.save_checkpoint()})"
      ],
      "text/plain": [
       "<IPython.core.display.Javascript object>"
      ]
     },
     "metadata": {},
     "output_type": "display_data"
    }
   ],
   "source": [
    "jovian.commit()"
   ]
  },
  {
   "cell_type": "markdown",
   "metadata": {},
   "source": [
    "## Inferences and Conclusion\n",
    "\n",
    "We've drawn many inferences from the Dataset .Here a summary of that:\n",
    "- we downloaded the kaggle dataset with `opendataset` a python library which is used to download dataset online.\n",
    "- And then we clean and handle the missing values from dataset.\n",
    "- After that we analyze our data which give us more information about data.\n",
    "- As Movies and TV Shows are constantly releasing and being uploading on Hotstar. We are analyzing the dataset in November so it might be more Movies and TV Shows at end of this Year.\n",
    "\n",
    "\n",
    "\n"
   ]
  },
  {
   "cell_type": "code",
   "execution_count": 79,
   "metadata": {},
   "outputs": [],
   "source": [
    "import jovian"
   ]
  },
  {
   "cell_type": "code",
   "execution_count": 80,
   "metadata": {},
   "outputs": [
    {
     "data": {
      "application/javascript": [
       "window.require && require([\"base/js/namespace\"],function(Jupyter){Jupyter.notebook.save_checkpoint()})"
      ],
      "text/plain": [
       "<IPython.core.display.Javascript object>"
      ]
     },
     "metadata": {},
     "output_type": "display_data"
    },
    {
     "name": "stdout",
     "output_type": "stream",
     "text": [
      "[jovian] Updating notebook \"vinayakpandey372/hotstar-data-analysis\" on https://jovian.ai\u001b[0m\n",
      "[jovian] Committed successfully! https://jovian.ai/vinayakpandey372/hotstar-data-analysis\u001b[0m\n"
     ]
    },
    {
     "data": {
      "text/plain": [
       "'https://jovian.ai/vinayakpandey372/hotstar-data-analysis'"
      ]
     },
     "execution_count": 80,
     "metadata": {},
     "output_type": "execute_result"
    }
   ],
   "source": [
    "jovian.commit()"
   ]
  },
  {
   "cell_type": "markdown",
   "metadata": {},
   "source": [
    "## References and Future Work\n",
    "\n",
    "- In Future we can compare the data from another datasets from another datasets which provide insights that how many movies and TV Shows added every year\n",
    "\n",
    "\n",
    "* https://www.kaggle.com/datasets/goelyash/disney-hotstar-tv-and-movie-catalog/code(link to the dataset)\n",
    "* Numerical computing with Numpy: https://jovian.ml/aakashns/python-numerical-computing-with-numpy\n",
    "* Analyzing tabular data with Pandas: https://jovian.ml/aakashns/python-pandas-data-analysis\n",
    "* Matplotlib & Seaborn tutorial: https://jovian.ml/aakashns/python-matplotlib-data-visualization\n",
    "* Pandas user guide: https://pandas.pydata.org/docs/user_guide/index.html\n",
    "* Matplotlib user guide: https://matplotlib.org/3.3.1/users/index.html\n",
    "* Seaborn user guide & tutorial: https://seaborn.pydata.org/tutorial.html"
   ]
  },
  {
   "cell_type": "code",
   "execution_count": 81,
   "metadata": {},
   "outputs": [],
   "source": [
    "import jovian"
   ]
  },
  {
   "cell_type": "code",
   "execution_count": 85,
   "metadata": {
    "scrolled": true
   },
   "outputs": [
    {
     "data": {
      "application/javascript": [
       "window.require && require([\"base/js/namespace\"],function(Jupyter){Jupyter.notebook.save_checkpoint()})"
      ],
      "text/plain": [
       "<IPython.core.display.Javascript object>"
      ]
     },
     "metadata": {},
     "output_type": "display_data"
    },
    {
     "name": "stdout",
     "output_type": "stream",
     "text": [
      "[jovian] Updating notebook \"vinayakpandey372/hotstar-data-analysis\" on https://jovian.ai\u001b[0m\n",
      "[jovian] Committed successfully! https://jovian.ai/vinayakpandey372/hotstar-data-analysis\u001b[0m\n"
     ]
    },
    {
     "data": {
      "text/plain": [
       "'https://jovian.ai/vinayakpandey372/hotstar-data-analysis'"
      ]
     },
     "execution_count": 85,
     "metadata": {},
     "output_type": "execute_result"
    }
   ],
   "source": [
    "jovian.commit()"
   ]
  },
  {
   "cell_type": "code",
   "execution_count": null,
   "metadata": {},
   "outputs": [],
   "source": []
  }
 ],
 "metadata": {
  "language_info": {
   "codemirror_mode": {
    "name": "ipython",
    "version": 3
   },
   "file_extension": ".py",
   "mimetype": "text/x-python",
   "name": "python",
   "nbconvert_exporter": "python",
   "pygments_lexer": "ipython3",
   "version": "3.9.6"
  }
 },
 "nbformat": 4,
 "nbformat_minor": 4
}